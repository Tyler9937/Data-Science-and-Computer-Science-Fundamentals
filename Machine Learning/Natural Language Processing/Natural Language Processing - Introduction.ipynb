{
 "cells": [
  {
   "cell_type": "markdown",
   "metadata": {},
   "source": [
    "# Natural Language Processing - Introduction"
   ]
  },
  {
   "cell_type": "markdown",
   "metadata": {},
   "source": [
    "**importing needed libraries**"
   ]
  },
  {
   "cell_type": "code",
   "execution_count": 40,
   "metadata": {},
   "outputs": [],
   "source": [
    "import seaborn as sns\n",
    "import pandas as pd\n",
    "import random\n",
    "import re\n",
    "import spacy\n",
    "from spacy.tokenizer import Tokenizer\n",
    "from collections import Counter\n",
    "\n",
    "import matplotlib.pyplot as plt\n",
    "import squarify"
   ]
  },
  {
   "cell_type": "markdown",
   "metadata": {},
   "source": [
    "### Tokenization\n",
    "\n",
    "**By character**"
   ]
  },
  {
   "cell_type": "code",
   "execution_count": 21,
   "metadata": {},
   "outputs": [
    {
     "name": "stdout",
     "output_type": "stream",
     "text": [
      "['2', '9', 't', 'e', 'x', 'q', 'e', 'v', 'z', 'r', '3', 'g', 'w', 'v', 'm', 'r', 'p', 'j', 'v', 'd', 'e', '6', '3', '7', 'h', '4', 'g', 'w', 'd', '6']\n"
     ]
    }
   ],
   "source": [
    "string = '29texqevzr3gwvmrpjvde637h4gwd6'\n",
    "\n",
    "tokens = list(string)\n",
    "\n",
    "print(tokens)"
   ]
  },
  {
   "cell_type": "markdown",
   "metadata": {},
   "source": [
    "**By word**"
   ]
  },
  {
   "cell_type": "code",
   "execution_count": 22,
   "metadata": {},
   "outputs": [
    {
     "data": {
      "text/plain": [
       "['Last',\n",
       " 'Friday',\n",
       " 'I',\n",
       " 'saw',\n",
       " 'a',\n",
       " 'spotted',\n",
       " 'striped',\n",
       " 'blue',\n",
       " 'worm',\n",
       " 'shake',\n",
       " 'hands',\n",
       " 'with',\n",
       " 'a',\n",
       " 'legless',\n",
       " 'lizard.']"
      ]
     },
     "execution_count": 22,
     "metadata": {},
     "output_type": "execute_result"
    }
   ],
   "source": [
    "mysentence = 'Last Friday I saw a spotted striped blue worm shake hands with a legless lizard.'\n",
    "\n",
    "mysentence.split(' ')"
   ]
  },
  {
   "cell_type": "markdown",
   "metadata": {},
   "source": [
    "**Counting Token Frequency**"
   ]
  },
  {
   "cell_type": "code",
   "execution_count": 23,
   "metadata": {},
   "outputs": [
    {
     "name": "stderr",
     "output_type": "stream",
     "text": [
      "C:\\Users\\tyler\\AppData\\Local\\Packages\\PythonSoftwareFoundation.Python.3.9_qbz5n2kfra8p0\\LocalCache\\local-packages\\Python39\\site-packages\\seaborn\\_decorators.py:36: FutureWarning: Pass the following variable as a keyword arg: x. From version 0.12, the only valid positional argument will be `data`, and passing other arguments without an explicit keyword will result in an error or misinterpretation.\n",
      "  warnings.warn(\n"
     ]
    },
    {
     "data": {
      "image/png": "[encoded data removed]",
      "text/plain": [
       "<Figure size 432x288 with 1 Axes>"
      ]
     },
     "metadata": {
      "needs_background": "light"
     },
     "output_type": "display_data"
    }
   ],
   "source": [
    "ax = sns.countplot(tokens)\n",
    "ax.set_title('Count plot of random_seq characters');"
   ]
  },
  {
   "cell_type": "markdown",
   "metadata": {},
   "source": [
    "**Case Normalization**\n",
    "\n",
    "- .lower()\n",
    "- .upper()\n"
   ]
  },
  {
   "cell_type": "code",
   "execution_count": 24,
   "metadata": {},
   "outputs": [
    {
     "data": {
      "text/plain": [
       "bread         9\n",
       "COFFEE        5\n",
       "BREAD         4\n",
       "BISCUIT       4\n",
       "cornflakes    4\n",
       "tea           4\n",
       "milk          3\n",
       "suger         3\n",
       "coffee        3\n",
       "TEA           3\n",
       "SUGER         3\n",
       "MAGGI         3\n",
       "BOURNVITA     3\n",
       "biscuit       3\n",
       "MILK          2\n",
       "maggi         2\n",
       "cock          2\n",
       "CORNFLAKES    2\n",
       "JAM           1\n",
       "jam           1\n",
       "COCK          1\n",
       "bournvita     1\n",
       "Name: items, dtype: int64"
      ]
     },
     "execution_count": 24,
     "metadata": {},
     "output_type": "execute_result"
    }
   ],
   "source": [
    "# Loading in csv\n",
    "df = pd.read_csv('data/GroceryStoreDataSet.csv', names=['grocery_list'])\n",
    "\n",
    "# Processing dataframe to have each row be one grocery item in the items column\n",
    "grocery_list = df['grocery_list'].to_list()\n",
    "item_list=[]\n",
    "for items in grocery_list:\n",
    "    temp_list = items.split(',')\n",
    "    for temp_item in temp_list:\n",
    "        # Adding .lower() at random to demonstrate case normalization\n",
    "        random_num = random.randint(0,1)\n",
    "        if random_num == 0:\n",
    "            temp_item = temp_item.lower()\n",
    "        item_list.append(temp_item)\n",
    "\n",
    "# converting new list in to a new dataframe for analysis\n",
    "grocery_df = pd.DataFrame({'items': item_list})\n",
    "\n",
    "grocery_df['items'].value_counts()"
   ]
  },
  {
   "cell_type": "code",
   "execution_count": 25,
   "metadata": {},
   "outputs": [
    {
     "data": {
      "text/plain": [
       "bread         13\n",
       "coffee         8\n",
       "biscuit        7\n",
       "tea            7\n",
       "cornflakes     6\n",
       "suger          6\n",
       "milk           5\n",
       "maggi          5\n",
       "bournvita      4\n",
       "cock           3\n",
       "jam            2\n",
       "Name: items, dtype: int64"
      ]
     },
     "execution_count": 25,
     "metadata": {},
     "output_type": "execute_result"
    }
   ],
   "source": [
    "# Converting all list items to lower for case normalization\n",
    "grocery_df['items'] = grocery_df['items'].apply(lambda x: x.lower())\n",
    "\n",
    "# Looking at the tokens again\n",
    "grocery_df['items'].value_counts()"
   ]
  },
  {
   "cell_type": "markdown",
   "metadata": {},
   "source": [
    "**Alphanumeric Characters**\n",
    "\n",
    "everything else is pretty much noise and uneeded for our basic use cases of NLP\n",
    "\n",
    "using re [^a-zA-Z 0-9] to keep only the desired characters"
   ]
  },
  {
   "cell_type": "code",
   "execution_count": 26,
   "metadata": {},
   "outputs": [
    {
     "data": {
      "text/plain": [
       "'DehjZeefdfWzQ28LKH'"
      ]
     },
     "execution_count": 26,
     "metadata": {},
     "output_type": "execute_result"
    }
   ],
   "source": [
    "# Random string of characters\n",
    "string = 'D]ehjZe_*-e!?fdfW)_/zQ2#8*LKH#'\n",
    "\n",
    "# Filtering and replacing non alphanumeric characters with nothing\n",
    "re.sub('[^a-zA-Z 0-9]', '', string)"
   ]
  },
  {
   "cell_type": "markdown",
   "metadata": {},
   "source": [
    "**Processing Raw Text with Spacy**\n",
    "\n",
    "- much more production grade processing\n",
    "- spacy indexes componets to make processing faster as opposted to storing components in various datastructers"
   ]
  },
  {
   "cell_type": "code",
   "execution_count": 9,
   "metadata": {},
   "outputs": [
    {
     "data": {
      "text/plain": [
       "['They',\n",
       " 'watched',\n",
       " 'the',\n",
       " '42',\n",
       " 'dancing',\n",
       " 'piglets',\n",
       " 'with',\n",
       " 'panda',\n",
       " 'bear',\n",
       " 'tummies',\n",
       " 'in',\n",
       " 'the',\n",
       " 'swimming',\n",
       " 'pool.']"
      ]
     },
     "execution_count": 9,
     "metadata": {},
     "output_type": "execute_result"
    }
   ],
   "source": [
    "# importing pre-trained model small\n",
    "# nlp = spacy.load(\"en_core_web_sm\") (diffrently sized models)\n",
    "nlp = spacy.load(\"en_core_web_lg\") # Very large in comparison\n",
    "\n",
    "# Tokenizer\n",
    "tokenizer = Tokenizer(nlp.vocab)\n",
    "\n",
    "# Sample text\n",
    "sample = \"They watched the 42 dancing piglets with panda bear tummies in the swimming pool.\"\n",
    "\n",
    "# processing with spacy\n",
    "[token.text for token in tokenizer(sample)]"
   ]
  },
  {
   "cell_type": "code",
   "execution_count": null,
   "metadata": {},
   "outputs": [],
   "source": [
    "# Text Generated from https://openai.com/\n",
    "gpt_3_text = \"A group of scientists journey into the jungle and find a lost city. They are captured by the natives and forced to live in the city. The natives are ruled by a queen who is a white woman. The queen is a witch who has the power to turn men into apes. The scientists are forced to live in the city and are forced to mate with the natives. The queen has a daughter who is a white woman. The daughter falls in love with one of the scientists. The queen finds out and has the scientist turned into an ape. The daughter and the other scientists escape the city and return to civilization. The daughter is pregnant with the scientist's child. The daughter gives birth to a baby boy. The baby boy is white. The daughter and the baby boy return to the city to rescue the scientist. The scientist is turned back into a human. The scientist and the daughter return to civilization. The scientists had stds and the daughter and the scientist die from the stds. The end\"\n",
    "\n",
    "[token.text for token in tokenizer(gpt_3_text)]"
   ]
  },
  {
   "cell_type": "markdown",
   "metadata": {},
   "source": [
    "**Using spaCy to remove stopwords**\n",
    "\n",
    "- text gathered from https://www.gutenberg.org/\n",
    "- “Alice in Wonderland” and Lewis Carroll"
   ]
  },
  {
   "cell_type": "code",
   "execution_count": 13,
   "metadata": {},
   "outputs": [
    {
     "name": "stdout",
     "output_type": "stream",
     "text": [
      "The number of stop words:  326\n",
      "The first 10 stop words are:  ['‘d', 'off', 'becoming', 'a', 'back', 'into', 'without', 'whoever', 'mostly', 'someone']\n"
     ]
    }
   ],
   "source": [
    "# spaCy's default stop words\n",
    "stop_list = list(nlp.Defaults.stop_words)\n",
    "print(\"The number of stop words: \", len(stop_list))\n",
    "\n",
    "print(\"The first 10 stop words are: \", stop_list[:10])"
   ]
  },
  {
   "cell_type": "code",
   "execution_count": 34,
   "metadata": {},
   "outputs": [
    {
     "name": "stdout",
     "output_type": "stream",
     "text": [
      "The type of oupt is:  <class 'spacy.tokens.doc.Doc'>\n",
      "﻿Alice’s Adventures in Wonderland\n",
      "\n",
      "by Lewis Carroll\n",
      "\n",
      "CHAPTER I.\n",
      "Down the Rabbit-Hole\n",
      "\n",
      "\n",
      "Alice was beginning to get very tired of sitting by her sister on the\n",
      "bank, and of having nothing to do: once or twice she had peeped into\n",
      "the book her sister was reading, but it had no pictures or\n",
      "conversations in it, “and what is the use of a book,” thought Alice\n",
      "“without pictures or conversations?”\n",
      "\n",
      "So she was considering in her own mind (\n"
     ]
    }
   ],
   "source": [
    "# opening alice in wonderland file\n",
    "with open('data/alice_in_wonderland.txt', encoding='utf-8', errors='ignore') as f:\n",
    "    wonder_raw = f.read()\n",
    "\n",
    "# NLP model\n",
    "nlp = spacy.load(\"en_core_web_lg\") # Very large in comparison\n",
    "\n",
    "# Parseing the text\n",
    "doc = nlp(wonder_raw)\n",
    "print('The type of oupt is: ', type(doc))\n",
    "print(doc[:100])"
   ]
  },
  {
   "cell_type": "code",
   "execution_count": 37,
   "metadata": {},
   "outputs": [
    {
     "name": "stdout",
     "output_type": "stream",
     "text": [
      "['\\ufeffalice', 'adventures', 'wonderland', 'lewis', 'carroll', 'chapter', 'i.', 'rabbit', 'hole', 'alice', 'beginning', 'tired', 'sitting', 'sister', 'bank', 'having', 'twice', 'peeped', 'book', 'sister', 'reading', 'pictures', 'conversations', 'use', 'book', 'thought', 'alice', 'pictures', 'conversations', 'considering', 'mind', 'hot', 'day', 'feel', 'sleepy', 'stupid', 'pleasure', 'making', 'daisy', 'chain', 'worth', 'trouble', 'getting', 'picking', 'daisies', 'suddenly', 'white', 'rabbit', 'pink', 'eyes']\n"
     ]
    }
   ],
   "source": [
    "# Removing the stop words and punctuation\n",
    "\n",
    "# Initialize a list to hold the tokens\n",
    "tokens_nostop = []\n",
    "\n",
    "# Loop over each token in the document (doc)\n",
    "for token in doc:\n",
    "    if (token.is_stop == False) & (token.is_punct == False):\n",
    "        # Removing \\n from tokens\n",
    "        token = token.text.strip()\n",
    "        if token != '':\n",
    "            # Adding desired tokens\n",
    "            tokens_nostop.append(token.lower())\n",
    "\n",
    "# Print the first 50 tokens      \n",
    "print(tokens_nostop[:50])"
   ]
  },
  {
   "cell_type": "markdown",
   "metadata": {},
   "source": [
    "**Preforming a word count**"
   ]
  },
  {
   "cell_type": "code",
   "execution_count": 38,
   "metadata": {},
   "outputs": [
    {
     "data": {
      "text/html": [
       "<div>\n",
       "<style scoped>\n",
       "    .dataframe tbody tr th:only-of-type {\n",
       "        vertical-align: middle;\n",
       "    }\n",
       "\n",
       "    .dataframe tbody tr th {\n",
       "        vertical-align: top;\n",
       "    }\n",
       "\n",
       "    .dataframe thead th {\n",
       "        text-align: right;\n",
       "    }\n",
       "</style>\n",
       "<table border=\"1\" class=\"dataframe\">\n",
       "  <thead>\n",
       "    <tr style=\"text-align: right;\">\n",
       "      <th></th>\n",
       "      <th>word</th>\n",
       "      <th>count</th>\n",
       "      <th>rank</th>\n",
       "      <th>pct_total</th>\n",
       "    </tr>\n",
       "  </thead>\n",
       "  <tbody>\n",
       "    <tr>\n",
       "      <th>133</th>\n",
       "      <td>said</td>\n",
       "      <td>462</td>\n",
       "      <td>1.0</td>\n",
       "      <td>3.866109</td>\n",
       "    </tr>\n",
       "    <tr>\n",
       "      <th>9</th>\n",
       "      <td>alice</td>\n",
       "      <td>397</td>\n",
       "      <td>2.0</td>\n",
       "      <td>3.322176</td>\n",
       "    </tr>\n",
       "    <tr>\n",
       "      <th>187</th>\n",
       "      <td>little</td>\n",
       "      <td>128</td>\n",
       "      <td>3.0</td>\n",
       "      <td>1.071130</td>\n",
       "    </tr>\n",
       "    <tr>\n",
       "      <th>175</th>\n",
       "      <td>know</td>\n",
       "      <td>88</td>\n",
       "      <td>4.0</td>\n",
       "      <td>0.736402</td>\n",
       "    </tr>\n",
       "    <tr>\n",
       "      <th>81</th>\n",
       "      <td>like</td>\n",
       "      <td>85</td>\n",
       "      <td>5.0</td>\n",
       "      <td>0.711297</td>\n",
       "    </tr>\n",
       "    <tr>\n",
       "      <th>2348</th>\n",
       "      <td>project</td>\n",
       "      <td>85</td>\n",
       "      <td>6.0</td>\n",
       "      <td>0.711297</td>\n",
       "    </tr>\n",
       "    <tr>\n",
       "      <th>2349</th>\n",
       "      <td>gutenberg</td>\n",
       "      <td>85</td>\n",
       "      <td>7.0</td>\n",
       "      <td>0.711297</td>\n",
       "    </tr>\n",
       "    <tr>\n",
       "      <th>78</th>\n",
       "      <td>went</td>\n",
       "      <td>83</td>\n",
       "      <td>8.0</td>\n",
       "      <td>0.694561</td>\n",
       "    </tr>\n",
       "    <tr>\n",
       "      <th>1380</th>\n",
       "      <td>queen</td>\n",
       "      <td>75</td>\n",
       "      <td>9.0</td>\n",
       "      <td>0.627615</td>\n",
       "    </tr>\n",
       "    <tr>\n",
       "      <th>23</th>\n",
       "      <td>thought</td>\n",
       "      <td>74</td>\n",
       "      <td>10.0</td>\n",
       "      <td>0.619247</td>\n",
       "    </tr>\n",
       "  </tbody>\n",
       "</table>\n",
       "</div>"
      ],
      "text/plain": [
       "           word  count  rank  pct_total\n",
       "133        said    462   1.0   3.866109\n",
       "9         alice    397   2.0   3.322176\n",
       "187      little    128   3.0   1.071130\n",
       "175        know     88   4.0   0.736402\n",
       "81         like     85   5.0   0.711297\n",
       "2348    project     85   6.0   0.711297\n",
       "2349  gutenberg     85   7.0   0.711297\n",
       "78         went     83   8.0   0.694561\n",
       "1380      queen     75   9.0   0.627615\n",
       "23      thought     74  10.0   0.619247"
      ]
     },
     "execution_count": 38,
     "metadata": {},
     "output_type": "execute_result"
    }
   ],
   "source": [
    "# Summing the word counts and storing in a dictionary\n",
    "token_dict = Counter(tokens_nostop)\n",
    "\n",
    "# Convert to a DataFrame\n",
    "tokens_wc = pd.DataFrame(list(token_dict.items()), columns = ['word','count'])\n",
    "\n",
    "# Rank the words by how frequently they occur\n",
    "tokens_wc['rank'] = tokens_wc['count'].rank(method='first', ascending=False)\n",
    "\n",
    "# Count all of the words in the document and calculate their percentage\n",
    "total = tokens_wc['count'].sum()\n",
    "tokens_wc['pct_total'] = tokens_wc['count'].apply(lambda x: (x / total)*100)\n",
    "\n",
    "# Take a look at the DataFrame with new results\n",
    "tokens_wc.sort_values(by=['rank'], inplace=True)\n",
    "tokens_wc.head(10)"
   ]
  },
  {
   "cell_type": "markdown",
   "metadata": {},
   "source": [
    "**Plotting word counts against precentage in doc**"
   ]
  },
  {
   "cell_type": "code",
   "execution_count": 39,
   "metadata": {},
   "outputs": [
    {
     "data": {
      "image/png": "[encoded data removed]",
      "text/plain": [
       "<Figure size 432x288 with 1 Axes>"
      ]
     },
     "metadata": {
      "needs_background": "light"
     },
     "output_type": "display_data"
    }
   ],
   "source": [
    "# Create a new DataFrame of the top 25 ranked words\n",
    "tokens_wc_top25 = tokens_wc[tokens_wc['rank'] <= 25]\n",
    "\n",
    "# Line plot of rank vs. percent total\n",
    "sns.lineplot(x='rank', y='pct_total', data=tokens_wc_top25);"
   ]
  },
  {
   "cell_type": "code",
   "execution_count": 41,
   "metadata": {},
   "outputs": [
    {
     "data": {
      "image/png": "[encoded data removed]",
      "text/plain": [
       "<Figure size 432x288 with 1 Axes>"
      ]
     },
     "metadata": {
      "needs_background": "light"
     },
     "output_type": "display_data"
    }
   ],
   "source": [
    "# Creates squares based on value size\n",
    "squarify.plot(sizes=tokens_wc_top25['pct_total'], label=tokens_wc_top25['word'], alpha=.8 )\n",
    "plt.axis('off')\n",
    "\n",
    "plt.show()"
   ]
  },
  {
   "cell_type": "markdown",
   "metadata": {},
   "source": [
    "**Extending our stop word**\n",
    "\n",
    "- Removing things like alice and rabbit"
   ]
  },
  {
   "cell_type": "code",
   "execution_count": 42,
   "metadata": {},
   "outputs": [],
   "source": [
    "# Add additional stop words to the default list\n",
    "STOP_WORDS = nlp.Defaults.stop_words.union(['alice', 'rabbit'])"
   ]
  },
  {
   "cell_type": "markdown",
   "metadata": {},
   "source": [
    "**Re-running the above cells to see new squarify map**"
   ]
  },
  {
   "cell_type": "code",
   "execution_count": 44,
   "metadata": {},
   "outputs": [
    {
     "data": {
      "image/png": "[encoded data removed]",
      "text/plain": [
       "<Figure size 432x288 with 1 Axes>"
      ]
     },
     "metadata": {
      "needs_background": "light"
     },
     "output_type": "display_data"
    }
   ],
   "source": [
    "# Initialize a list to hold the tokens\n",
    "tokens_nostop_add = []\n",
    "\n",
    "# Loop over each token in the document (doc)\n",
    "for token in doc:\n",
    "    if (token.text.lower() not in STOP_WORDS) & (token.is_punct == False):\n",
    "        # Removing \\n from tokens\n",
    "        token = token.text.strip()\n",
    "        if token != '':\n",
    "            tokens_nostop_add.append(token.lower())\n",
    "\n",
    "# Sum up the word counts and store in a dict & DataFrame\n",
    "tokens_dict_add = Counter(tokens_nostop_add)\n",
    "tokens_wc_add = pd.DataFrame(list(tokens_dict_add.items()), columns = ['word','count'])\n",
    "\n",
    "# Rank the words & create a percentage column\n",
    "tokens_wc_add['rank'] = tokens_wc_add['count'].rank(method='first', ascending=False)\n",
    "total = tokens_wc_add['count'].sum()\n",
    "tokens_wc_add['pct_total'] = tokens_wc_add['count'].apply(lambda x: (x / total)*100)\n",
    "\n",
    "# Create a new DataFrame of the NEW top 25 ranked words\n",
    "tokens_wc_add_top25 = tokens_wc_add[tokens_wc_add['rank'] <= 25]\n",
    "\n",
    "squarify.plot(sizes=tokens_wc_add_top25['pct_total'], label=tokens_wc_add_top25['word'], alpha=.8 )\n",
    "plt.axis('off')\n",
    "\n",
    "plt.show()"
   ]
  },
  {
   "cell_type": "markdown",
   "metadata": {},
   "source": [
    "**Looking for variation**\n",
    "- The goal is really to find the variation of words in text so it is worth looking at maybe the least commen words as well"
   ]
  },
  {
   "cell_type": "code",
   "execution_count": 45,
   "metadata": {},
   "outputs": [
    {
     "data": {
      "image/png": "[encoded data removed]",
      "text/plain": [
       "<Figure size 432x288 with 1 Axes>"
      ]
     },
     "metadata": {
      "needs_background": "light"
     },
     "output_type": "display_data"
    }
   ],
   "source": [
    "# Create a new DataFrame of the bottom 25 words\n",
    "tokens_wc_end25 = tokens_wc.tail(25)\n",
    "\n",
    "squarify.plot(sizes=tokens_wc_end25['pct_total'], label=tokens_wc_end25['word'], alpha=.8 )\n",
    "plt.axis('off')\n",
    "\n",
    "plt.show()"
   ]
  },
  {
   "cell_type": "markdown",
   "metadata": {},
   "source": [
    "### Stemming and lemmatation\n",
    "\n",
    "- languege is conplex and there is no standard rule for how to do this\n",
    "- wolf, wolves, goose, geese, automatic, automobile, autocrat, auto"
   ]
  },
  {
   "cell_type": "markdown",
   "metadata": {},
   "source": [
    "**Stemming**\n",
    "\n",
    "process of transforming a word and all its inflections to a root word\n",
    "\n",
    "- not always human readable\n",
    "- as useful applications in search and infomation retreaval\n",
    "- it is also relitvly fast\n",
    "\n",
    "Example with potter stemmer algorithm\n",
    "\n",
    "*Sample text:* Such and analysis can reveal features that are not easily visible from the variations in the individual genes and can lead to a picture of expression that is more biologically transparent and accessible to interpretation\n",
    "\n",
    "*Porter stemmer:* such an analysi can reveal featur that ar not easili visibl from the variat in the individu gene and can lead to a pictur of express that is more biolog transpar and access to interpret"
   ]
  },
  {
   "cell_type": "markdown",
   "metadata": {},
   "source": [
    "**Lemmatization**\n",
    "\n",
    "Lemmatization, on the other hand, is more methodical. The goal is to transform a word into its base form called a lemma. First, plural nouns with uncommon spellings get changed to the singular tense. Next, verbs are all transformed to the transitive: an action word with something or someone receiving the action such as paint (transitive verb) the canvas (object).\n",
    "\n",
    "- Computationally intense"
   ]
  },
  {
   "cell_type": "code",
   "execution_count": 47,
   "metadata": {},
   "outputs": [
    {
     "name": "stdout",
     "output_type": "stream",
     "text": [
      "The  -->  the\n",
      "rabbit  -->  rabbit\n",
      "-  -->  -\n",
      "hole  -->  hole\n",
      "went  -->  go\n",
      "straight  -->  straight\n",
      "on  -->  on\n",
      "like  -->  like\n",
      "a  -->  a\n",
      "tunnel  -->  tunnel\n",
      "for  -->  for\n",
      "some  -->  some\n",
      "way  -->  way\n",
      ",  -->  ,\n",
      "and  -->  and\n",
      "then  -->  then\n",
      "dipped  -->  dip\n",
      "suddenly  -->  suddenly\n",
      "down  -->  down\n",
      ",  -->  ,\n",
      "so  -->  so\n",
      "suddenly  -->  suddenly\n",
      "that  -->  that\n",
      "Alice  -->  Alice\n",
      "had  -->  have\n",
      "not  -->  not\n",
      "a  -->  a\n",
      "moment  -->  moment\n",
      "to  -->  to\n",
      "think  -->  think\n",
      "about  -->  about\n",
      "stopping  -->  stop\n",
      "herself  -->  herself\n",
      "before  -->  before\n",
      "she  -->  she\n",
      "found  -->  find\n",
      "herself  -->  herself\n",
      "falling  -->  fall\n",
      "down  -->  down\n",
      "a  -->  a\n",
      "very  -->  very\n",
      "deep  -->  deep\n",
      "well  -->  well\n",
      ".  -->  .\n"
     ]
    }
   ],
   "source": [
    "# Create an example sentence\n",
    "sent = \"The rabbit-hole went straight on like a tunnel for some way, and then dipped suddenly down, so suddenly that Alice had not a moment to think about stopping herself before she found herself falling down a very deep well.\"\n",
    "\n",
    "# Load the language library\n",
    "nlp = spacy.load(\"en_core_web_lg\")\n",
    "doc = nlp(sent)\n",
    "\n",
    "# Lemma Attributes\n",
    "for token in doc:\n",
    "    print(token.text, \" --> \", token.lemma_)"
   ]
  },
  {
   "cell_type": "markdown",
   "metadata": {},
   "source": [
    "**Preforming more in depth lemmas transformation**\n",
    "\n",
    "- using spacy"
   ]
  },
  {
   "cell_type": "code",
   "execution_count": 48,
   "metadata": {},
   "outputs": [],
   "source": [
    "# Tokenizing and lemmatizing in one function\n",
    "def get_lemmas(text): \n",
    "    # Initialize a list\n",
    "    lemmas = []\n",
    "    # Convert the input text into a spaCy doc\n",
    "    doc = nlp(text) \n",
    "    # Remove stop words, punctuation, and personal pronouns (PRON)\n",
    "    for token in doc:\n",
    "        if ((token.is_stop == False) and (token.is_punct == False)) and (token.pos_ != 'PRON'):\n",
    "            lemmas.append(token.lemma_) \n",
    "    # Return the lemmatized tokens\n",
    "    return lemmas"
   ]
  },
  {
   "cell_type": "code",
   "execution_count": 49,
   "metadata": {},
   "outputs": [],
   "source": [
    "# Example text (https://en.wikipedia.org/wiki/Geology)\n",
    "geology = [\"Geology describes the structure of the Earth on and beneath its surface, and the processes that have shaped that structure.\",\n",
    "        \"It also provides tools to determine the relative and absolute ages of rocks found in a given location, and also to describe the histories of those rocks.\", \n",
    "        \"By combining these tools, geologists are able to chronicle the geological history of the Earth as a whole, and also to demonstrate the age of the Earth.\",\n",
    "        \"Geology provides the primary evidence for plate tectonics, the evolutionary history of life, and the Earth's past climates.\"]"
   ]
  },
  {
   "cell_type": "code",
   "execution_count": 50,
   "metadata": {},
   "outputs": [
    {
     "name": "stdout",
     "output_type": "stream",
     "text": [
      "[['geology', 'describe', 'structure', 'Earth', 'beneath', 'surface', 'process', 'shape', 'structure'], ['provide', 'tool', 'determine', 'relative', 'absolute', 'age', 'rock', 'find', 'give', 'location', 'describe', 'history', 'rock'], ['combine', 'tool', 'geologist', 'able', 'chronicle', 'geological', 'history', 'Earth', 'demonstrate', 'age', 'Earth'], ['geology', 'provide', 'primary', 'evidence', 'plate', 'tectonic', 'evolutionary', 'history', 'life', 'Earth', 'past', 'climate']]\n"
     ]
    }
   ],
   "source": [
    "# Find the lemmas for each sentence in the above text\n",
    "geology_lemma = [get_lemmas(sentence) for sentence in geology]\n",
    "print(geology_lemma)"
   ]
  }
 ],
 "metadata": {
  "interpreter": {
   "hash": "0b8e1b44fef6f769bdcd84daa9e6bcf329c54142ae85aa21700236386f9708da"
  },
  "kernelspec": {
   "display_name": "Python 3.9.9 64-bit (windows store)",
   "language": "python",
   "name": "python3"
  },
  "language_info": {
   "codemirror_mode": {
    "name": "ipython",
    "version": 3
   },
   "file_extension": ".py",
   "mimetype": "text/x-python",
   "name": "python",
   "nbconvert_exporter": "python",
   "pygments_lexer": "ipython3",
   "version": "3.9.9"
  },
  "orig_nbformat": 4
 },
 "nbformat": 4,
 "nbformat_minor": 2
}
