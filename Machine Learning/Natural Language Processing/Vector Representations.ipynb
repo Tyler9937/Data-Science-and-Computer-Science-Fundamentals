{
 "cells": [
  {
   "cell_type": "markdown",
   "metadata": {},
   "source": [
    "# Vector Representations"
   ]
  },
  {
   "cell_type": "markdown",
   "metadata": {},
   "source": [
    "**Importing needed libraries**"
   ]
  },
  {
   "cell_type": "code",
   "execution_count": 26,
   "metadata": {},
   "outputs": [],
   "source": [
    "import pandas as pd\n",
    "from urllib.request import urlopen\n",
    "import spacy\n",
    "\n",
    "from sklearn.feature_extraction.text import CountVectorizer, TfidfVectorizer\n",
    "from sklearn.preprocessing import Binarizer\n",
    "from sklearn.metrics.pairwise import cosine_similarity\n",
    "from sklearn.decomposition import PCA\n",
    "\n",
    "import matplotlib.pyplot as plt"
   ]
  },
  {
   "cell_type": "markdown",
   "metadata": {},
   "source": [
    "**Text Vectorization**"
   ]
  },
  {
   "cell_type": "code",
   "execution_count": 8,
   "metadata": {},
   "outputs": [],
   "source": [
    "# Create the corpus with random sentences\n",
    "\n",
    "corpus = [\"Karma, karma, karma, karma, karma chameleon.\",\n",
    "          \"The paintbrush was angry at the color the chameleon chose to use.\",\n",
    "          \"She stomped on her fruit loops and thus became a cereal killer.\",\n",
    "          \"He hated that he loved what she hated about cereal and her chameleon.\"\n",
    "         ]"
   ]
  },
  {
   "cell_type": "markdown",
   "metadata": {},
   "source": [
    "**Frequency Count**"
   ]
  },
  {
   "cell_type": "code",
   "execution_count": 9,
   "metadata": {},
   "outputs": [
    {
     "name": "stdout",
     "output_type": "stream",
     "text": [
      "[[0 0 0 0 0 0 1 0 0 0 0 0 0 5 0 0 0 0 0 0 0 0 0 0 0 0 0 0]\n",
      " [0 0 1 1 0 0 1 1 1 0 0 0 0 0 0 0 0 0 1 0 0 0 3 0 1 1 1 0]\n",
      " [0 1 0 0 1 1 0 0 0 1 0 0 1 0 1 1 0 1 0 1 1 0 0 1 0 0 0 0]\n",
      " [1 1 0 0 0 1 1 0 0 0 2 2 1 0 0 0 1 0 0 1 0 1 0 0 0 0 0 1]]\n"
     ]
    }
   ],
   "source": [
    "# Frequency-count\n",
    "\n",
    "# Instantiate the object and count the words\n",
    "vectorizer = CountVectorizer()\n",
    "vectors = vectorizer.fit_transform(corpus)\n",
    "\n",
    "# Convert to dense vectors (leave out the zeroes)\n",
    "print(vectors.todense())"
   ]
  },
  {
   "cell_type": "markdown",
   "metadata": {},
   "source": [
    "**One Hot Encoding**"
   ]
  },
  {
   "cell_type": "code",
   "execution_count": 10,
   "metadata": {},
   "outputs": [
    {
     "data": {
      "text/plain": [
       "array([[0, 0, 0, 0, 0, 0, 1, 0, 0, 0, 0, 0, 0, 1, 0, 0, 0, 0, 0, 0, 0, 0,\n",
       "        0, 0, 0, 0, 0, 0],\n",
       "       [0, 0, 1, 1, 0, 0, 1, 1, 1, 0, 0, 0, 0, 0, 0, 0, 0, 0, 1, 0, 0, 0,\n",
       "        1, 0, 1, 1, 1, 0],\n",
       "       [0, 1, 0, 0, 1, 1, 0, 0, 0, 1, 0, 0, 1, 0, 1, 1, 0, 1, 0, 1, 1, 0,\n",
       "        0, 1, 0, 0, 0, 0],\n",
       "       [1, 1, 0, 0, 0, 1, 1, 0, 0, 0, 1, 1, 1, 0, 0, 0, 1, 0, 0, 1, 0, 1,\n",
       "        0, 0, 0, 0, 0, 1]], dtype=int64)"
      ]
     },
     "execution_count": 10,
     "metadata": {},
     "output_type": "execute_result"
    }
   ],
   "source": [
    "# One-hot encoding of word counts\n",
    "# Initialize the vectorizer and get the word counts\n",
    "freq   = CountVectorizer()\n",
    "corpus_freq = freq.fit_transform(corpus)\n",
    "\n",
    "# Initialize the binarizer and create the binary encoded vector\n",
    "onehot = Binarizer()\n",
    "corpus_onehot = onehot.fit_transform(corpus_freq.toarray())\n",
    "\n",
    "# Display the one-hot encoded vector\n",
    "corpus_onehot"
   ]
  },
  {
   "cell_type": "markdown",
   "metadata": {},
   "source": [
    "**Term frequency-inverse document frequency**"
   ]
  },
  {
   "cell_type": "code",
   "execution_count": 12,
   "metadata": {},
   "outputs": [
    {
     "name": "stderr",
     "output_type": "stream",
     "text": [
      "C:\\Users\\tyler\\AppData\\Local\\Packages\\PythonSoftwareFoundation.Python.3.9_qbz5n2kfra8p0\\LocalCache\\local-packages\\Python39\\site-packages\\sklearn\\utils\\deprecation.py:87: FutureWarning: Function get_feature_names is deprecated; get_feature_names is deprecated in 1.0 and will be removed in 1.2. Please use get_feature_names_out instead.\n",
      "  warnings.warn(msg, category=FutureWarning)\n"
     ]
    },
    {
     "data": {
      "text/html": [
       "<div>\n",
       "<style scoped>\n",
       "    .dataframe tbody tr th:only-of-type {\n",
       "        vertical-align: middle;\n",
       "    }\n",
       "\n",
       "    .dataframe tbody tr th {\n",
       "        vertical-align: top;\n",
       "    }\n",
       "\n",
       "    .dataframe thead th {\n",
       "        text-align: right;\n",
       "    }\n",
       "</style>\n",
       "<table border=\"1\" class=\"dataframe\">\n",
       "  <thead>\n",
       "    <tr style=\"text-align: right;\">\n",
       "      <th></th>\n",
       "      <th>angry</th>\n",
       "      <th>cereal</th>\n",
       "      <th>chameleon</th>\n",
       "      <th>chose</th>\n",
       "      <th>color</th>\n",
       "      <th>fruit</th>\n",
       "      <th>hated</th>\n",
       "      <th>karma</th>\n",
       "      <th>killer</th>\n",
       "      <th>loops</th>\n",
       "      <th>loved</th>\n",
       "      <th>paintbrush</th>\n",
       "      <th>stomped</th>\n",
       "      <th>use</th>\n",
       "    </tr>\n",
       "  </thead>\n",
       "  <tbody>\n",
       "    <tr>\n",
       "      <th>0</th>\n",
       "      <td>0.000000</td>\n",
       "      <td>0.000000</td>\n",
       "      <td>0.126630</td>\n",
       "      <td>0.000000</td>\n",
       "      <td>0.000000</td>\n",
       "      <td>0.000000</td>\n",
       "      <td>0.00000</td>\n",
       "      <td>0.99195</td>\n",
       "      <td>0.000000</td>\n",
       "      <td>0.000000</td>\n",
       "      <td>0.000000</td>\n",
       "      <td>0.000000</td>\n",
       "      <td>0.000000</td>\n",
       "      <td>0.000000</td>\n",
       "    </tr>\n",
       "    <tr>\n",
       "      <th>1</th>\n",
       "      <td>0.430037</td>\n",
       "      <td>0.000000</td>\n",
       "      <td>0.274487</td>\n",
       "      <td>0.430037</td>\n",
       "      <td>0.430037</td>\n",
       "      <td>0.000000</td>\n",
       "      <td>0.00000</td>\n",
       "      <td>0.00000</td>\n",
       "      <td>0.000000</td>\n",
       "      <td>0.000000</td>\n",
       "      <td>0.000000</td>\n",
       "      <td>0.430037</td>\n",
       "      <td>0.000000</td>\n",
       "      <td>0.430037</td>\n",
       "    </tr>\n",
       "    <tr>\n",
       "      <th>2</th>\n",
       "      <td>0.000000</td>\n",
       "      <td>0.366739</td>\n",
       "      <td>0.000000</td>\n",
       "      <td>0.000000</td>\n",
       "      <td>0.000000</td>\n",
       "      <td>0.465162</td>\n",
       "      <td>0.00000</td>\n",
       "      <td>0.00000</td>\n",
       "      <td>0.465162</td>\n",
       "      <td>0.465162</td>\n",
       "      <td>0.000000</td>\n",
       "      <td>0.000000</td>\n",
       "      <td>0.465162</td>\n",
       "      <td>0.000000</td>\n",
       "    </tr>\n",
       "    <tr>\n",
       "      <th>3</th>\n",
       "      <td>0.000000</td>\n",
       "      <td>0.321093</td>\n",
       "      <td>0.259952</td>\n",
       "      <td>0.000000</td>\n",
       "      <td>0.000000</td>\n",
       "      <td>0.000000</td>\n",
       "      <td>0.81453</td>\n",
       "      <td>0.00000</td>\n",
       "      <td>0.000000</td>\n",
       "      <td>0.000000</td>\n",
       "      <td>0.407265</td>\n",
       "      <td>0.000000</td>\n",
       "      <td>0.000000</td>\n",
       "      <td>0.000000</td>\n",
       "    </tr>\n",
       "  </tbody>\n",
       "</table>\n",
       "</div>"
      ],
      "text/plain": [
       "      angry    cereal  chameleon     chose     color     fruit    hated  \\\n",
       "0  0.000000  0.000000   0.126630  0.000000  0.000000  0.000000  0.00000   \n",
       "1  0.430037  0.000000   0.274487  0.430037  0.430037  0.000000  0.00000   \n",
       "2  0.000000  0.366739   0.000000  0.000000  0.000000  0.465162  0.00000   \n",
       "3  0.000000  0.321093   0.259952  0.000000  0.000000  0.000000  0.81453   \n",
       "\n",
       "     karma    killer     loops     loved  paintbrush   stomped       use  \n",
       "0  0.99195  0.000000  0.000000  0.000000    0.000000  0.000000  0.000000  \n",
       "1  0.00000  0.000000  0.000000  0.000000    0.430037  0.000000  0.430037  \n",
       "2  0.00000  0.465162  0.465162  0.000000    0.000000  0.465162  0.000000  \n",
       "3  0.00000  0.000000  0.000000  0.407265    0.000000  0.000000  0.000000  "
      ]
     },
     "execution_count": 12,
     "metadata": {},
     "output_type": "execute_result"
    }
   ],
   "source": [
    "# Instantiate vectorizer object\n",
    "tfidf = TfidfVectorizer(stop_words='english', max_features=5000)\n",
    "\n",
    "# Create a vocabulary and get word counts per document\n",
    "dtm = tfidf.fit_transform(corpus)\n",
    "\n",
    "# Get feature names to use as dataframe column headers\n",
    "dtm = pd.DataFrame(dtm.todense(), columns=tfidf.get_feature_names())\n",
    "\n",
    "# View feature matrix as DataFrame\n",
    "dtm.head()"
   ]
  },
  {
   "cell_type": "markdown",
   "metadata": {},
   "source": [
    "**Cosine Similarity**\n",
    "\n",
    "- How are two vectors similar to each other"
   ]
  },
  {
   "cell_type": "code",
   "execution_count": 14,
   "metadata": {},
   "outputs": [
    {
     "name": "stdout",
     "output_type": "stream",
     "text": [
      "Document: 0\n",
      "The gravitational forces exerted by the Moon at several points on Earth are illustrated in Figure 4.16. These forces differ slightly from one another because Earth is not a point, but has a certain size: all parts are not equally distant from the Moon, nor are they all in exactly the same direction \n",
      "Document: 1\n",
      " A cell is the smallest unit of a living thing. Whether comprised of one cell (like bacteria) or many cells (like a human), we call it an organism. Thus, cells are the basic building blocks of all organisms. Several cells of one kind that interconnect with each other and perform a shared function fo\n",
      "Document: 2\n",
      " What do aching feet, a falling apple, and the orbit of the Moon have in common? Each is caused by the gravitational force. Our feet are strained by supporting our weight—the force of Earth’s gravity on us. An apple falls from a tree because of the same force acting a few meters above Earth’s surfac\n"
     ]
    }
   ],
   "source": [
    "# The text consists of three documents on three different subjects\n",
    "link = 'https://raw.githubusercontent.com/nwhoffman/NLP_example_text/master/u4s1m2_similarity.txt'\n",
    "f = urlopen(link)\n",
    "myfile = f.read()\n",
    "\n",
    "mystring = str(myfile, 'utf-8')\n",
    "corpus = mystring.split(';')\n",
    "\n",
    "# Print out the first 300 characters for each document\n",
    "for i in [0, 1, 2]:\n",
    "    print('Document:', i)\n",
    "    print(corpus[i][0:300])"
   ]
  },
  {
   "cell_type": "code",
   "execution_count": 17,
   "metadata": {},
   "outputs": [
    {
     "data": {
      "text/html": [
       "<div>\n",
       "<style scoped>\n",
       "    .dataframe tbody tr th:only-of-type {\n",
       "        vertical-align: middle;\n",
       "    }\n",
       "\n",
       "    .dataframe tbody tr th {\n",
       "        vertical-align: top;\n",
       "    }\n",
       "\n",
       "    .dataframe thead th {\n",
       "        text-align: right;\n",
       "    }\n",
       "</style>\n",
       "<table border=\"1\" class=\"dataframe\">\n",
       "  <thead>\n",
       "    <tr style=\"text-align: right;\">\n",
       "      <th></th>\n",
       "      <th>16</th>\n",
       "      <th>able</th>\n",
       "      <th>aching</th>\n",
       "      <th>acting</th>\n",
       "      <th>acts</th>\n",
       "      <th>animal</th>\n",
       "      <th>apple</th>\n",
       "      <th>attracted</th>\n",
       "      <th>attraction</th>\n",
       "      <th>bacteria</th>\n",
       "      <th>...</th>\n",
       "      <th>types</th>\n",
       "      <th>underlying</th>\n",
       "      <th>understood</th>\n",
       "      <th>unit</th>\n",
       "      <th>universe</th>\n",
       "      <th>valid</th>\n",
       "      <th>vary</th>\n",
       "      <th>ways</th>\n",
       "      <th>weakest</th>\n",
       "      <th>weight</th>\n",
       "    </tr>\n",
       "  </thead>\n",
       "  <tbody>\n",
       "    <tr>\n",
       "      <th>0</th>\n",
       "      <td>0.082019</td>\n",
       "      <td>0.000000</td>\n",
       "      <td>0.000000</td>\n",
       "      <td>0.000000</td>\n",
       "      <td>0.000000</td>\n",
       "      <td>0.000000</td>\n",
       "      <td>0.000000</td>\n",
       "      <td>0.164038</td>\n",
       "      <td>0.082019</td>\n",
       "      <td>0.000000</td>\n",
       "      <td>...</td>\n",
       "      <td>0.000000</td>\n",
       "      <td>0.000000</td>\n",
       "      <td>0.000000</td>\n",
       "      <td>0.000000</td>\n",
       "      <td>0.000000</td>\n",
       "      <td>0.000000</td>\n",
       "      <td>0.000000</td>\n",
       "      <td>0.000000</td>\n",
       "      <td>0.000000</td>\n",
       "      <td>0.000000</td>\n",
       "    </tr>\n",
       "    <tr>\n",
       "      <th>1</th>\n",
       "      <td>0.000000</td>\n",
       "      <td>0.000000</td>\n",
       "      <td>0.000000</td>\n",
       "      <td>0.000000</td>\n",
       "      <td>0.000000</td>\n",
       "      <td>0.071219</td>\n",
       "      <td>0.000000</td>\n",
       "      <td>0.000000</td>\n",
       "      <td>0.000000</td>\n",
       "      <td>0.071219</td>\n",
       "      <td>...</td>\n",
       "      <td>0.071219</td>\n",
       "      <td>0.000000</td>\n",
       "      <td>0.000000</td>\n",
       "      <td>0.071219</td>\n",
       "      <td>0.000000</td>\n",
       "      <td>0.000000</td>\n",
       "      <td>0.000000</td>\n",
       "      <td>0.000000</td>\n",
       "      <td>0.000000</td>\n",
       "      <td>0.000000</td>\n",
       "    </tr>\n",
       "    <tr>\n",
       "      <th>2</th>\n",
       "      <td>0.000000</td>\n",
       "      <td>0.088592</td>\n",
       "      <td>0.088592</td>\n",
       "      <td>0.088592</td>\n",
       "      <td>0.088592</td>\n",
       "      <td>0.000000</td>\n",
       "      <td>0.177185</td>\n",
       "      <td>0.000000</td>\n",
       "      <td>0.000000</td>\n",
       "      <td>0.000000</td>\n",
       "      <td>...</td>\n",
       "      <td>0.000000</td>\n",
       "      <td>0.088592</td>\n",
       "      <td>0.088592</td>\n",
       "      <td>0.000000</td>\n",
       "      <td>0.088592</td>\n",
       "      <td>0.088592</td>\n",
       "      <td>0.088592</td>\n",
       "      <td>0.088592</td>\n",
       "      <td>0.088592</td>\n",
       "      <td>0.088592</td>\n",
       "    </tr>\n",
       "  </tbody>\n",
       "</table>\n",
       "<p>3 rows × 147 columns</p>\n",
       "</div>"
      ],
      "text/plain": [
       "         16      able    aching    acting      acts    animal     apple  \\\n",
       "0  0.082019  0.000000  0.000000  0.000000  0.000000  0.000000  0.000000   \n",
       "1  0.000000  0.000000  0.000000  0.000000  0.000000  0.071219  0.000000   \n",
       "2  0.000000  0.088592  0.088592  0.088592  0.088592  0.000000  0.177185   \n",
       "\n",
       "   attracted  attraction  bacteria  ...     types  underlying  understood  \\\n",
       "0   0.164038    0.082019  0.000000  ...  0.000000    0.000000    0.000000   \n",
       "1   0.000000    0.000000  0.071219  ...  0.071219    0.000000    0.000000   \n",
       "2   0.000000    0.000000  0.000000  ...  0.000000    0.088592    0.088592   \n",
       "\n",
       "       unit  universe     valid      vary      ways   weakest    weight  \n",
       "0  0.000000  0.000000  0.000000  0.000000  0.000000  0.000000  0.000000  \n",
       "1  0.071219  0.000000  0.000000  0.000000  0.000000  0.000000  0.000000  \n",
       "2  0.000000  0.088592  0.088592  0.088592  0.088592  0.088592  0.088592  \n",
       "\n",
       "[3 rows x 147 columns]"
      ]
     },
     "execution_count": 17,
     "metadata": {},
     "output_type": "execute_result"
    }
   ],
   "source": [
    "# Instantiate vectorizer object\n",
    "tfidf = TfidfVectorizer(stop_words='english', max_features=5000)\n",
    "\n",
    "# Create a vocabulary and get tfidf values per document\n",
    "dtm = tfidf.fit_transform(corpus)\n",
    "\n",
    "# Get feature names to use as DataFrame column headers\n",
    "dtm = pd.DataFrame(dtm.todense(), columns=tfidf.get_feature_names_out())\n",
    "\n",
    "# View the feature matrix as a DataFrame\n",
    "dtm.head()"
   ]
  },
  {
   "cell_type": "code",
   "execution_count": 19,
   "metadata": {},
   "outputs": [
    {
     "data": {
      "text/html": [
       "<div>\n",
       "<style scoped>\n",
       "    .dataframe tbody tr th:only-of-type {\n",
       "        vertical-align: middle;\n",
       "    }\n",
       "\n",
       "    .dataframe tbody tr th {\n",
       "        vertical-align: top;\n",
       "    }\n",
       "\n",
       "    .dataframe thead th {\n",
       "        text-align: right;\n",
       "    }\n",
       "</style>\n",
       "<table border=\"1\" class=\"dataframe\">\n",
       "  <thead>\n",
       "    <tr style=\"text-align: right;\">\n",
       "      <th></th>\n",
       "      <th>0</th>\n",
       "      <th>1</th>\n",
       "      <th>2</th>\n",
       "    </tr>\n",
       "  </thead>\n",
       "  <tbody>\n",
       "    <tr>\n",
       "      <th>0</th>\n",
       "      <td>1.000000</td>\n",
       "      <td>0.000000</td>\n",
       "      <td>0.197532</td>\n",
       "    </tr>\n",
       "    <tr>\n",
       "      <th>1</th>\n",
       "      <td>0.000000</td>\n",
       "      <td>1.000000</td>\n",
       "      <td>0.007299</td>\n",
       "    </tr>\n",
       "    <tr>\n",
       "      <th>2</th>\n",
       "      <td>0.197532</td>\n",
       "      <td>0.007299</td>\n",
       "      <td>1.000000</td>\n",
       "    </tr>\n",
       "  </tbody>\n",
       "</table>\n",
       "</div>"
      ],
      "text/plain": [
       "          0         1         2\n",
       "0  1.000000  0.000000  0.197532\n",
       "1  0.000000  1.000000  0.007299\n",
       "2  0.197532  0.007299  1.000000"
      ]
     },
     "metadata": {},
     "output_type": "display_data"
    }
   ],
   "source": [
    "# Find the cosine similarity of tf-idf vectors\n",
    "cosine_sim  = cosine_similarity(dtm)\n",
    "\n",
    "# Turn it into a DataFrame\n",
    "cosine_sim = pd.DataFrame(cosine_sim)\n",
    "display(cosine_sim)"
   ]
  },
  {
   "cell_type": "markdown",
   "metadata": {},
   "source": [
    "**Word Embedding**\n",
    "\n",
    "The concept of word embedding is related to the mathematical concept of embedding, where a word is represented as a continuous vector in a space with a much lower dimension. Words or phrases (all of the unique words in the corpus) are mapped to vectors in real space. Each word is mapped to a single vector that is learned from applying neural network techniques. Thus, words that are in the same contexts will have similar meanings and similar word vectors.\n",
    "\n",
    "There are a few different ways to generate word vectors. First, we’ll present a brief overview of the popular word2vec tool and then look at the word vectors available in spaCy, generated from the GloVe algorithm.\n",
    "\n",
    "**Word2vec**\n",
    "\n",
    "Word embeddings, in general, are found like processing a large corpus of text to learn the meanings of words. In the process, we don’t want to learn the exact definition of a word but rather some representation of the meaning. We can think of word vectors as a list of weights or scores, where each vector element is a specific dimension. These dimensions represent things like the “peopleness” or “animalness” or “foodness” of a word. The combination of all of these “ness” values is the word vector.\n",
    "\n",
    "The word2vec tool uses two algorithms to find these vectors: the skip-gram algorithm and the CBOW algorithm.\n",
    "\n",
    "**skip-gram**\n",
    "\n",
    "The skip-gram method is named because it uses n-grams that contain gaps where the token is skipped. The surrounding words are predicted based on the input word. This method for generating work vectors works well with small corpora and rare word\n",
    "\n",
    "**CBOW**\n",
    "\n",
    "The continuous-bag-of-words or CBOW method works similarly to the skip-gram method but instead predicts the center word from the surrounding words. This model is faster to train and results in higher accuracy for words that are in use frequently."
   ]
  },
  {
   "cell_type": "code",
   "execution_count": 21,
   "metadata": {},
   "outputs": [
    {
     "name": "stdout",
     "output_type": "stream",
     "text": [
      "(300,)\n",
      "[-0.04911    -0.23685     0.10623751 -0.19662951 -0.403395    0.238247\n",
      "  0.1852     -0.28211    -0.31013     1.0560249 ]\n"
     ]
    }
   ],
   "source": [
    "nlp = spacy.load('en_core_web_lg')\n",
    "\n",
    "# Set the document (this example contains two words)\n",
    "doc = nlp(\"drama llama\")\n",
    "\n",
    "# Get the vectors for document\n",
    "# (the vectors are the average of the two word vectors)\n",
    "llama_vector = doc.vector\n",
    "\n",
    "# Look length of the vector (how many dimensions?)\n",
    "print(llama_vector.shape)\n",
    "\n",
    "# Display part of the vector\n",
    "print(llama_vector[:10])"
   ]
  },
  {
   "cell_type": "code",
   "execution_count": 22,
   "metadata": {},
   "outputs": [
    {
     "name": "stdout",
     "output_type": "stream",
     "text": [
      "The similarity score for llama-llama is:  1.0\n",
      "The similarity score for llama-horse is:  0.37856930047799736\n",
      "The similarity score for llama-car is:  0.08994985333860218\n"
     ]
    }
   ],
   "source": [
    "# Find the similarity score for example words\n",
    "\n",
    "# Compare \"llama\" and \"horse\"\n",
    "print(\"The similarity score for llama-llama is: \", nlp(\"llama\").similarity(nlp(\"llama\")))\n",
    "print(\"The similarity score for llama-horse is: \", nlp(\"llama\").similarity(nlp(\"horse\")))\n",
    "print(\"The similarity score for llama-car is: \", nlp(\"llama\").similarity(nlp(\"car\")))"
   ]
  },
  {
   "cell_type": "markdown",
   "metadata": {},
   "source": [
    "**We want to view the vector space using PCA to reduce the vectors dimensionality**"
   ]
  },
  {
   "cell_type": "code",
   "execution_count": 25,
   "metadata": {},
   "outputs": [
    {
     "data": {
      "text/plain": [
       "array([[ 2.87538871,  2.1924341 ],\n",
       "       [ 3.89682021, -0.73923489],\n",
       "       [ 3.69059896, -1.41344964],\n",
       "       [ 2.95501969, -1.67204314],\n",
       "       [ 3.21524274, -0.10002494],\n",
       "       [-1.79493447,  4.34816682],\n",
       "       [-2.3407361 ,  4.28495142],\n",
       "       [-1.45716462,  1.55856908],\n",
       "       [-0.84419009,  2.45805994],\n",
       "       [-3.56703596, -2.77326173],\n",
       "       [-3.87441702, -3.66247474],\n",
       "       [-1.3833254 , -2.81328086],\n",
       "       [-0.81738513, -1.28377165],\n",
       "       [-0.55388151, -0.38463977]])"
      ]
     },
     "execution_count": 25,
     "metadata": {},
     "output_type": "execute_result"
    }
   ],
   "source": [
    "# Define a function to find the vector for a word\n",
    "def get_word_vectors(words):\n",
    "    # converts a list of words into their word vectors\n",
    "    return [nlp(word).vector for word in words]\n",
    "\n",
    "# Example word list to find vectors for\n",
    "words = ['python', 'javascript', 'code', 'data', 'linux',\n",
    "        'llama', 'alpaca', 'cat', 'snake',\n",
    "        'cook', 'bake', 'cookie', 'clean', 'car']\n",
    "\n",
    "# Initialize the PCA model and project down to two dimensions\n",
    "pca = PCA(n_components=2)\n",
    "\n",
    "# Fit the PCA model on the word list\n",
    "pca.fit(get_word_vectors(words))\n",
    "\n",
    "# Apply the transformation learned from the PCA model\n",
    "word_vecs_2d = pca.transform(get_word_vectors(words))\n",
    "\n",
    "# Look at the 2-D array (which is just x and y coordinates)\n",
    "word_vecs_2d"
   ]
  },
  {
   "cell_type": "code",
   "execution_count": 29,
   "metadata": {},
   "outputs": [
    {
     "data": {
      "image/png": "[encoded data removed]",
      "text/plain": [
       "<Figure size 720x576 with 1 Axes>"
      ]
     },
     "metadata": {
      "needs_background": "light"
     },
     "output_type": "display_data"
    }
   ],
   "source": [
    "plt.figure(figsize=(10,8))\n",
    "plt.scatter(word_vecs_2d[:,0], word_vecs_2d[:,1])\n",
    "\n",
    "# Display the text of the word at each point\n",
    "for word, coord in zip(words, word_vecs_2d):\n",
    "    x, y = coord\n",
    "    plt.text(x+0.05, y, word, size= 15)\n",
    "\n",
    "# show the plot\n",
    "plt.show()"
   ]
  },
  {
   "cell_type": "code",
   "execution_count": null,
   "metadata": {},
   "outputs": [],
   "source": []
  }
 ],
 "metadata": {
  "interpreter": {
   "hash": "0b8e1b44fef6f769bdcd84daa9e6bcf329c54142ae85aa21700236386f9708da"
  },
  "kernelspec": {
   "display_name": "Python 3.9.9 64-bit (windows store)",
   "language": "python",
   "name": "python3"
  },
  "language_info": {
   "codemirror_mode": {
    "name": "ipython",
    "version": 3
   },
   "file_extension": ".py",
   "mimetype": "text/x-python",
   "name": "python",
   "nbconvert_exporter": "python",
   "pygments_lexer": "ipython3",
   "version": "3.9.9"
  },
  "orig_nbformat": 4
 },
 "nbformat": 4,
 "nbformat_minor": 2
}
