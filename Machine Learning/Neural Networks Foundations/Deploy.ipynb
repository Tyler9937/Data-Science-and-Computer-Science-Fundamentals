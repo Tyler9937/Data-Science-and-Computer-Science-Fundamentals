{
 "cells": [
  {
   "cell_type": "markdown",
   "metadata": {},
   "source": [
    "# Deploy\n",
    "\n",
    "- Always use EarlyStopping\n",
    "- Use EarlyStopping, Weight Decay and Dropout\n",
    "- Use EarlyStopping, Weight Constraint and Dropout"
   ]
  },
  {
   "cell_type": "markdown",
   "metadata": {},
   "source": [
    "**Importing need libraries**"
   ]
  },
  {
   "cell_type": "code",
   "execution_count": 2,
   "metadata": {},
   "outputs": [],
   "source": [
    "import tensorflow as tf\n",
    "import numpy as np"
   ]
  },
  {
   "cell_type": "markdown",
   "metadata": {},
   "source": [
    "**Neral net early stopping**"
   ]
  },
  {
   "cell_type": "code",
   "execution_count": 3,
   "metadata": {},
   "outputs": [
    {
     "name": "stdout",
     "output_type": "stream",
     "text": [
      "Epoch 1/10\n",
      "5/5 [==============================] - 0s 1ms/step - loss: 1727962787398811648.0000\n",
      "Epoch 2/10\n",
      "5/5 [==============================] - 0s 1ms/step - loss: 17856931015840374846661245781671936.0000\n",
      "Epoch 3/10\n",
      "5/5 [==============================] - 0s 1ms/step - loss: inf\n",
      "Epoch 4/10\n",
      "5/5 [==============================] - 0s 1ms/step - loss: inf\n"
     ]
    }
   ],
   "source": [
    "# Example: Keras EarlyStopping documentation\n",
    "\n",
    "callback = tf.keras.callbacks.EarlyStopping(monitor='loss', patience=3)\n",
    "# This callback will stop the training when there is no improvement in  \n",
    "# the validation loss for three consecutive epochs.  \n",
    "model = tf.keras.models.Sequential([tf.keras.layers.Dense(10)])\n",
    "model.compile(tf.keras.optimizers.SGD(), loss='mse')\n",
    "\n",
    "# Create some data\n",
    "# X: sequence from 0 to 99\n",
    "X = np.arange(100).reshape(5, 20)\n",
    "\n",
    "# y: an array of zeroes\n",
    "y = np.zeros(5)\n",
    "\n",
    "# Model this data using the EarlyStopping callback\n",
    "history = model.fit(X, y, epochs=10, batch_size=1, callbacks=[callback])"
   ]
  },
  {
   "cell_type": "markdown",
   "metadata": {},
   "source": [
    "**Dropout**"
   ]
  },
  {
   "cell_type": "code",
   "execution_count": 4,
   "metadata": {},
   "outputs": [
    {
     "name": "stdout",
     "output_type": "stream",
     "text": [
      "The input data:  [[0. 1.]\n",
      " [2. 3.]\n",
      " [4. 5.]\n",
      " [6. 7.]\n",
      " [8. 9.]]\n",
      "The output after applying a dropout: tf.Tensor(\n",
      "[[ 0.    1.25]\n",
      " [ 2.5   3.75]\n",
      " [ 0.    6.25]\n",
      " [ 7.5   8.75]\n",
      " [10.   11.25]], shape=(5, 2), dtype=float32)\n"
     ]
    }
   ],
   "source": [
    "# Example: Keras regularization layers / Dropout layer\n",
    "\n",
    "tf.random.set_seed(42)\n",
    "\n",
    "# Drop 0.2 of the inputs (random)\n",
    "layer = tf.keras.layers.Dropout(0.2, input_shape=(2,))\n",
    "data = np.arange(10).reshape(5, 2).astype(np.float32)\n",
    "print(\"The input data: \", data)\n",
    "\n",
    "outputs = layer(data, training=True)\n",
    "print(\"The output after applying a dropout:\", outputs)"
   ]
  },
  {
   "cell_type": "markdown",
   "metadata": {},
   "source": [
    "**Weight Regularization**"
   ]
  },
  {
   "cell_type": "code",
   "execution_count": 5,
   "metadata": {},
   "outputs": [],
   "source": [
    "# Weight constraint example\n",
    "from tensorflow.keras.constraints import max_norm\n",
    "from tensorflow.keras import layers\n",
    "\n",
    "# kernel_constraint argument is for the main weights\n",
    "model.add(layers.Dense(64, kernel_constraint=max_norm(2.)))\n",
    "\n",
    "# Weight decay example\n",
    "from tensorflow.keras import layers\n",
    "from tensorflow.keras import regularizers\n",
    "\n",
    "# Add in the weight \"decay\" terms\n",
    "layer = layers.Dense(\n",
    "    units=64,\n",
    "    kernel_regularizer=regularizers.l1_l2(l1=1e-5, l2=1e-4)\n",
    ")"
   ]
  },
  {
   "cell_type": "markdown",
   "metadata": {},
   "source": [
    "**Stopping a model and saving its trained state**"
   ]
  },
  {
   "cell_type": "code",
   "execution_count": 7,
   "metadata": {},
   "outputs": [],
   "source": [
    "from tensorflow.keras.models import Sequential\n",
    "from tensorflow.keras.layers import Dense\n",
    "\n",
    "# Define the keras model\n",
    "model = Sequential()\n",
    "model.add(Dense(12, input_dim=8, activation='relu'))\n",
    "model.add(Dense(8, activation='relu'))\n",
    "model.add(Dense(1, activation='sigmoid'))\n",
    "\n",
    "# Compile the keras model\n",
    "model.compile(loss='binary_crossentropy', optimizer='adam', metrics=['accuracy'])"
   ]
  },
  {
   "cell_type": "code",
   "execution_count": 8,
   "metadata": {},
   "outputs": [],
   "source": [
    "# Create checkpoint options\n",
    "from tensorflow.keras.callbacks import ModelCheckpoint\n",
    "cpoint = ModelCheckpoint(\"weights_best.h5\", \n",
    "                         verbose=1, save_weights_only=True)"
   ]
  },
  {
   "cell_type": "code",
   "execution_count": 9,
   "metadata": {},
   "outputs": [
    {
     "name": "stdout",
     "output_type": "stream",
     "text": [
      "\n",
      "Epoch 00001: saving model to weights_best.h5\n",
      "\n",
      "Epoch 00002: saving model to weights_best.h5\n",
      "\n",
      "Epoch 00003: saving model to weights_best.h5\n",
      "\n",
      "Epoch 00004: saving model to weights_best.h5\n",
      "\n",
      "Epoch 00005: saving model to weights_best.h5\n"
     ]
    }
   ],
   "source": [
    "# Load the Pima Indians diabetes dataset\n",
    "import numpy as np\n",
    "\n",
    "# Set the URL for the data location\n",
    "url = 'https://raw.githubusercontent.com/jbrownlee/Datasets/master/pima-indians-diabetes.data.csv'\n",
    "\n",
    "# Load the dataset\n",
    "dataset = np.loadtxt(url, delimiter=',')\n",
    "\n",
    "# Split into input (X) and output (y) variables\n",
    "# (8 input columns, 1 target column)\n",
    "X = dataset[:,0:8]\n",
    "y = dataset[:,8]\n",
    "\n",
    "# Fit the keras model on the dataset\n",
    "# (remove the verbose=0 argument to see the output)\n",
    "model.fit(X, y, epochs=5, batch_size=10, verbose=0, callbacks=[cpoint]);"
   ]
  },
  {
   "cell_type": "code",
   "execution_count": 10,
   "metadata": {},
   "outputs": [
    {
     "name": "stdout",
     "output_type": "stream",
     "text": [
      "Model: \"sequential_2\"\n",
      "_________________________________________________________________\n",
      " Layer (type)                Output Shape              Param #   \n",
      "=================================================================\n",
      " dense_6 (Dense)             (None, 12)                108       \n",
      "                                                                 \n",
      " dense_7 (Dense)             (None, 8)                 104       \n",
      "                                                                 \n",
      " dense_8 (Dense)             (None, 1)                 9         \n",
      "                                                                 \n",
      "=================================================================\n",
      "Total params: 221\n",
      "Trainable params: 221\n",
      "Non-trainable params: 0\n",
      "_________________________________________________________________\n"
     ]
    }
   ],
   "source": [
    "# View the saved model weights\n",
    "model.load_weights('weights_best.h5')\n",
    "model.summary()"
   ]
  },
  {
   "cell_type": "code",
   "execution_count": null,
   "metadata": {},
   "outputs": [],
   "source": []
  }
 ],
 "metadata": {
  "interpreter": {
   "hash": "0b8e1b44fef6f769bdcd84daa9e6bcf329c54142ae85aa21700236386f9708da"
  },
  "kernelspec": {
   "display_name": "Python 3.9.9 64-bit (windows store)",
   "language": "python",
   "name": "python3"
  },
  "language_info": {
   "codemirror_mode": {
    "name": "ipython",
    "version": 3
   },
   "file_extension": ".py",
   "mimetype": "text/x-python",
   "name": "python",
   "nbconvert_exporter": "python",
   "pygments_lexer": "ipython3",
   "version": "3.9.9"
  },
  "orig_nbformat": 4
 },
 "nbformat": 4,
 "nbformat_minor": 2
}
