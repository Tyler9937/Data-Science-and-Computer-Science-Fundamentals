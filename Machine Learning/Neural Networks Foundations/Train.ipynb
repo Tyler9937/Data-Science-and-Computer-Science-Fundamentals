{
 "cells": [
  {
   "cell_type": "markdown",
   "metadata": {},
   "source": [
    "# Train"
   ]
  },
  {
   "cell_type": "markdown",
   "metadata": {},
   "source": [
    "**Import needed libraries**"
   ]
  },
  {
   "cell_type": "code",
   "execution_count": 36,
   "metadata": {},
   "outputs": [],
   "source": [
    "import seaborn as sns\n",
    "import pandas as pd\n",
    "import numpy as np\n",
    "\n",
    "import matplotlib.pyplot as plt\n",
    "import tensorflow as tf\n",
    "from keras.models import Sequential\n",
    "from keras.layers import Dense\n",
    "from tensorflow.keras.optimizers import SGD\n",
    "from sklearn.model_selection import train_test_split\n",
    "\n"
   ]
  },
  {
   "cell_type": "markdown",
   "metadata": {},
   "source": [
    "**Lose Function and Gradient Decent**"
   ]
  },
  {
   "cell_type": "code",
   "execution_count": 21,
   "metadata": {},
   "outputs": [
    {
     "data": {
      "text/plain": [
       "Text(0, 0.5, 'y')"
      ]
     },
     "execution_count": 21,
     "metadata": {},
     "output_type": "execute_result"
    },
    {
     "data": {
      "image/png": "[encoded data removed]",
      "text/plain": [
       "<Figure size 432x288 with 1 Axes>"
      ]
     },
     "metadata": {
      "needs_background": "light"
     },
     "output_type": "display_data"
    }
   ],
   "source": [
    "x = np.arange(-10, 15, 0.01)\n",
    "y = (x-3)**2\n",
    "\n",
    "plt.plot(x, y)\n",
    "plt.xlabel('x'); plt.ylabel('y')"
   ]
  },
  {
   "cell_type": "code",
   "execution_count": 22,
   "metadata": {},
   "outputs": [
    {
     "name": "stdout",
     "output_type": "stream",
     "text": [
      "Iteration 1 - x value: 1.2.\n",
      "Iteration 2 - x value: 1.38.\n",
      "Iteration 3 - x value: 1.5419999999999998.\n",
      "Iteration 4 - x value: 1.6877999999999997.\n",
      "Iteration 5 - x value: 1.8190199999999999.\n",
      "Iteration 6 - x value: 1.937118.\n",
      "Iteration 7 - x value: 2.0434061999999997.\n",
      "Iteration 8 - x value: 2.1390655799999996.\n",
      "Iteration 9 - x value: 2.2251590219999997.\n",
      "Iteration 10 - x value: 2.3026431198.\n",
      "Iteration 11 - x value: 2.37237880782.\n",
      "Iteration 12 - x value: 2.4351409270380002.\n",
      "Iteration 13 - x value: 2.4916268343342.\n",
      "Iteration 14 - x value: 2.54246415090078.\n",
      "Iteration 15 - x value: 2.5882177358107024.\n",
      "Iteration 16 - x value: 2.629395962229632.\n",
      "Iteration 17 - x value: 2.6664563660066687.\n",
      "Iteration 18 - x value: 2.6998107294060016.\n",
      "Iteration 19 - x value: 2.7298296564654017.\n",
      "Iteration 20 - x value: 2.7568466908188616.\n",
      "Iteration 21 - x value: 2.7811620217369755.\n",
      "Iteration 22 - x value: 2.8030458195632777.\n",
      "Iteration 23 - x value: 2.82274123760695.\n",
      "Iteration 24 - x value: 2.840467113846255.\n",
      "Iteration 25 - x value: 2.8564204024616293.\n",
      "The local minimum occurs at 2.8564204024616293\n"
     ]
    }
   ],
   "source": [
    "# Initialize at x=1\n",
    "cur_x = 1 \n",
    "\n",
    "# Learning rate (how much to adjust x each iteration)\n",
    "rate = 0.05\n",
    "\n",
    "# Maximum number of iterations\n",
    "max_iters = 25\n",
    "\n",
    "# Initialize interation counter\n",
    "iters = 0\n",
    "\n",
    "# Gradient of the function\n",
    "grad = lambda x: 2*(x-3)\n",
    "\n",
    "while iters < max_iters:\n",
    "  # Set the previous x as the current\n",
    "  prev_x = cur_x\n",
    "\n",
    "  # Calculate the \"new\" current x with the gradient\n",
    "  cur_x = prev_x - (rate * grad(prev_x))\n",
    "\n",
    "  # Advance the iteration counter\n",
    "  iters = iters+1\n",
    "  print(\"Iteration {} - x value: {}.\".format(iters, cur_x))\n",
    "\n",
    "# Print out the final result\n",
    "print(\"The local minimum occurs at\", cur_x)"
   ]
  },
  {
   "cell_type": "markdown",
   "metadata": {},
   "source": [
    "**Experimenting with batch size**"
   ]
  },
  {
   "cell_type": "code",
   "execution_count": 24,
   "metadata": {},
   "outputs": [
    {
     "name": "stdout",
     "output_type": "stream",
     "text": [
      "There are 768 samples in this dataset\n"
     ]
    }
   ],
   "source": [
    "# Set the URL for the data location\n",
    "data = 'data/pima-indians-diabetes.names.txt'\n",
    "\n",
    "# Load the dataset\n",
    "dataset = np.loadtxt(data, delimiter=',')\n",
    "\n",
    "# Look at the size of the dataset\n",
    "print(\"There are {} samples in this dataset\".format(len(dataset)))\n",
    "\n",
    "# Split into input (X) and output (y) variables\n",
    "# (8 input columns, 1 target column)\n",
    "X = dataset[:,0:8]\n",
    "y = dataset[:,8]\n",
    "\n",
    "# Define the layers\n",
    "model = Sequential()\n",
    "model.add(Dense(12, input_dim=8, activation='relu'))\n",
    "model.add(Dense(8, activation='relu'))\n",
    "model.add(Dense(1, activation='sigmoid'))\n",
    "\n",
    "# Compile the model\n",
    "model.compile(loss='binary_crossentropy', optimizer='adam', metrics=['accuracy'])"
   ]
  },
  {
   "cell_type": "code",
   "execution_count": 25,
   "metadata": {},
   "outputs": [
    {
     "name": "stdout",
     "output_type": "stream",
     "text": [
      "24/24 [==============================] - 0s 1ms/step - loss: 0.5372 - accuracy: 0.7383\n",
      "Model accuracy for batch size = 1:  73.828125\n"
     ]
    }
   ],
   "source": [
    "# Define batch sizes\n",
    "size = 1\n",
    "\n",
    "# Fit the model with different batch sizes\n",
    "model.fit(X, y, epochs=100, batch_size=size, verbose=0)\n",
    "\n",
    "# Evaluate the model\n",
    "print('Model accuracy for batch size = {}: '.format(size), model.evaluate(X, y)[1]*100)"
   ]
  },
  {
   "cell_type": "code",
   "execution_count": 26,
   "metadata": {},
   "outputs": [
    {
     "name": "stdout",
     "output_type": "stream",
     "text": [
      "24/24 [==============================] - 0s 1ms/step - loss: 0.5634 - accuracy: 0.7135\n",
      "Model accuracy for batch size = 100:  71.35416865348816\n"
     ]
    }
   ],
   "source": [
    "# Release global memory state\n",
    "tf.keras.backend.clear_session()\n",
    "\n",
    "# Define the layers\n",
    "model = Sequential()\n",
    "model.add(Dense(12, input_dim=8, activation='relu'))\n",
    "model.add(Dense(8, activation='relu'))\n",
    "model.add(Dense(1, activation='sigmoid'))\n",
    "\n",
    "# Compile the model\n",
    "model.compile(loss='binary_crossentropy', optimizer='adam', metrics=['accuracy'])\n",
    "\n",
    "# Define batch sizes\n",
    "size = 100\n",
    "\n",
    "# Fit the model with different batch sizes\n",
    "model.fit(X, y, epochs=100, batch_size=size, verbose=0)\n",
    "\n",
    "# Evaluate the model\n",
    "print('Model accuracy for batch size = {}: '.format(size), model.evaluate(X, y)[1]*100)"
   ]
  },
  {
   "cell_type": "code",
   "execution_count": 27,
   "metadata": {},
   "outputs": [
    {
     "name": "stdout",
     "output_type": "stream",
     "text": [
      "24/24 [==============================] - 0s 911us/step - loss: 1.5288 - accuracy: 0.6380\n",
      "Model accuracy for batch size = 768:  63.80208134651184\n"
     ]
    }
   ],
   "source": [
    "# Release global memory state\n",
    "tf.keras.backend.clear_session()\n",
    "\n",
    "# Define the layers\n",
    "model = Sequential()\n",
    "model.add(Dense(12, input_dim=8, activation='relu'))\n",
    "model.add(Dense(8, activation='relu'))\n",
    "model.add(Dense(1, activation='sigmoid'))\n",
    "\n",
    "# Compile the model\n",
    "model.compile(loss='binary_crossentropy', optimizer='adam', metrics=['accuracy'])\n",
    "\n",
    "\n",
    "# Define batch sizes\n",
    "size = len(X)\n",
    "\n",
    "# Fit the model with different batch sizes\n",
    "model.fit(X, y, epochs=100, batch_size=size, verbose=0)\n",
    "\n",
    "# Evaluate the model\n",
    "print('Model accuracy for batch size = {}: '.format(size), model.evaluate(X, y)[1]*100)"
   ]
  },
  {
   "cell_type": "markdown",
   "metadata": {},
   "source": [
    "**Experimenting with learning rates**"
   ]
  },
  {
   "cell_type": "code",
   "execution_count": 29,
   "metadata": {},
   "outputs": [
    {
     "name": "stdout",
     "output_type": "stream",
     "text": [
      "There are 768 samples in this dataset\n"
     ]
    }
   ],
   "source": [
    "# Set the URL for the data location\n",
    "data = 'data/pima-indians-diabetes.names.txt'\n",
    "\n",
    "# Load the dataset\n",
    "dataset = np.loadtxt(data, delimiter=',')\n",
    "\n",
    "# Look at the size of the dataset\n",
    "print(\"There are {} samples in this dataset\".format(len(dataset)))\n",
    "\n",
    "# Split into input (X) and output (y) variables\n",
    "# (8 input columns, 1 target column)\n",
    "X = dataset[:,0:8]\n",
    "y = dataset[:,8]\n",
    "\n",
    "X_train, X_test, y_train, y_test = train_test_split(\n",
    "    X, y, test_size=0.25, random_state=42)"
   ]
  },
  {
   "cell_type": "code",
   "execution_count": 34,
   "metadata": {},
   "outputs": [
    {
     "name": "stderr",
     "output_type": "stream",
     "text": [
      "C:\\Users\\tyler\\AppData\\Local\\Packages\\PythonSoftwareFoundation.Python.3.9_qbz5n2kfra8p0\\LocalCache\\local-packages\\Python39\\site-packages\\keras\\optimizer_v2\\gradient_descent.py:102: UserWarning: The `lr` argument is deprecated, use `learning_rate` instead.\n",
      "  super(SGD, self).__init__(name, **kwargs)\n"
     ]
    },
    {
     "name": "stdout",
     "output_type": "stream",
     "text": [
      "24/24 [==============================] - 0s 1ms/step - loss: 0.6926 - accuracy: 0.6458\n",
      "Model accuracy for learning rate = 0.0001: 64.58333134651184\n"
     ]
    }
   ],
   "source": [
    "# Define the layers\n",
    "model = Sequential()\n",
    "model.add(Dense(12, input_dim=8, activation='relu'))\n",
    "model.add(Dense(8, activation='relu'))\n",
    "model.add(Dense(1, activation='sigmoid'))\n",
    "\n",
    "opt = SGD(lr=0.0001)\n",
    "model.compile(loss='binary_crossentropy', optimizer=opt, metrics=['accuracy'])\n",
    "\n",
    "# Fit the model with validation data\n",
    "lr_low = model.fit(X_train, y_train, epochs=50, batch_size=10, verbose=0,\n",
    "                       validation_data=(X_test, y_test))\n",
    "\n",
    "# Evaluate the model\n",
    "print('Model accuracy for learning rate = 0.0001:', model.evaluate(X, y)[1]*100)"
   ]
  },
  {
   "cell_type": "code",
   "execution_count": 35,
   "metadata": {},
   "outputs": [
    {
     "name": "stdout",
     "output_type": "stream",
     "text": [
      "24/24 [==============================] - 0s 1ms/step - loss: 0.6505 - accuracy: 0.6510\n",
      "Model accuracy for learning rate = 0.75: 65.10416865348816\n"
     ]
    }
   ],
   "source": [
    "# Release global memory state\n",
    "tf.keras.backend.clear_session()\n",
    "\n",
    "# Define the layers\n",
    "model = Sequential()\n",
    "model.add(Dense(12, input_dim=8, activation='relu'))\n",
    "model.add(Dense(8, activation='relu'))\n",
    "model.add(Dense(1, activation='sigmoid'))\n",
    "\n",
    "# Compile the model\n",
    "opt = SGD(lr=0.75)\n",
    "model.compile(loss='binary_crossentropy', optimizer=opt, metrics=['accuracy'])\n",
    "\n",
    "# Fit the model with different batch sizes\n",
    "lr_high = model.fit(X_train, y_train, epochs=50, batch_size=10, verbose=0,\n",
    "                       validation_data=(X_test, y_test))\n",
    "\n",
    "# Evaluate the model\n",
    "print('Model accuracy for learning rate = 0.75:', model.evaluate(X, y)[1]*100)"
   ]
  },
  {
   "cell_type": "code",
   "execution_count": 43,
   "metadata": {},
   "outputs": [
    {
     "data": {
      "text/html": [
       "<div>\n",
       "<style scoped>\n",
       "    .dataframe tbody tr th:only-of-type {\n",
       "        vertical-align: middle;\n",
       "    }\n",
       "\n",
       "    .dataframe tbody tr th {\n",
       "        vertical-align: top;\n",
       "    }\n",
       "\n",
       "    .dataframe thead th {\n",
       "        text-align: right;\n",
       "    }\n",
       "</style>\n",
       "<table border=\"1\" class=\"dataframe\">\n",
       "  <thead>\n",
       "    <tr style=\"text-align: right;\">\n",
       "      <th></th>\n",
       "      <th>loss</th>\n",
       "      <th>accuracy</th>\n",
       "      <th>val_loss</th>\n",
       "      <th>val_accuracy</th>\n",
       "      <th>epoch</th>\n",
       "      <th>Learning Rate</th>\n",
       "    </tr>\n",
       "  </thead>\n",
       "  <tbody>\n",
       "    <tr>\n",
       "      <th>0</th>\n",
       "      <td>4.123405</td>\n",
       "      <td>0.614583</td>\n",
       "      <td>2.730403</td>\n",
       "      <td>0.557292</td>\n",
       "      <td>0</td>\n",
       "      <td>0.0001_</td>\n",
       "    </tr>\n",
       "    <tr>\n",
       "      <th>1</th>\n",
       "      <td>2.172411</td>\n",
       "      <td>0.524306</td>\n",
       "      <td>1.831988</td>\n",
       "      <td>0.531250</td>\n",
       "      <td>1</td>\n",
       "      <td>0.0001_</td>\n",
       "    </tr>\n",
       "    <tr>\n",
       "      <th>2</th>\n",
       "      <td>1.658513</td>\n",
       "      <td>0.512153</td>\n",
       "      <td>1.463236</td>\n",
       "      <td>0.510417</td>\n",
       "      <td>2</td>\n",
       "      <td>0.0001_</td>\n",
       "    </tr>\n",
       "    <tr>\n",
       "      <th>3</th>\n",
       "      <td>1.392331</td>\n",
       "      <td>0.532986</td>\n",
       "      <td>1.274116</td>\n",
       "      <td>0.489583</td>\n",
       "      <td>3</td>\n",
       "      <td>0.0001_</td>\n",
       "    </tr>\n",
       "    <tr>\n",
       "      <th>4</th>\n",
       "      <td>1.232915</td>\n",
       "      <td>0.536458</td>\n",
       "      <td>1.154461</td>\n",
       "      <td>0.494792</td>\n",
       "      <td>4</td>\n",
       "      <td>0.0001_</td>\n",
       "    </tr>\n",
       "  </tbody>\n",
       "</table>\n",
       "</div>"
      ],
      "text/plain": [
       "       loss  accuracy  val_loss  val_accuracy  epoch Learning Rate\n",
       "0  4.123405  0.614583  2.730403      0.557292      0       0.0001_\n",
       "1  2.172411  0.524306  1.831988      0.531250      1       0.0001_\n",
       "2  1.658513  0.512153  1.463236      0.510417      2       0.0001_\n",
       "3  1.392331  0.532986  1.274116      0.489583      3       0.0001_\n",
       "4  1.232915  0.536458  1.154461      0.494792      4       0.0001_"
      ]
     },
     "execution_count": 43,
     "metadata": {},
     "output_type": "execute_result"
    }
   ],
   "source": [
    "# Create an empty list to append each DataFrame\n",
    "learn_rates = []\n",
    "\n",
    "# Loop through the history of each model and create a DataFrame\n",
    "for model, result in zip([lr_low, lr_high], [\"0.0001_\", \"0.75_\"]):\n",
    "\n",
    "  df = pd.DataFrame.from_dict(model.history)\n",
    "  df['epoch'] = df.index.values\n",
    "  df['Learning Rate'] = result\n",
    "\n",
    "  learn_rates.append(df)\n",
    "\n",
    "# Combine all the DataFrames\n",
    "df = pd.concat(learn_rates, ignore_index=True)\n",
    "df['Learning Rate'] = df['Learning Rate'].astype('str')\n",
    "df.head()"
   ]
  },
  {
   "cell_type": "code",
   "execution_count": 44,
   "metadata": {},
   "outputs": [
    {
     "data": {
      "text/html": [
       "<div>\n",
       "<style scoped>\n",
       "    .dataframe tbody tr th:only-of-type {\n",
       "        vertical-align: middle;\n",
       "    }\n",
       "\n",
       "    .dataframe tbody tr th {\n",
       "        vertical-align: top;\n",
       "    }\n",
       "\n",
       "    .dataframe thead th {\n",
       "        text-align: right;\n",
       "    }\n",
       "</style>\n",
       "<table border=\"1\" class=\"dataframe\">\n",
       "  <thead>\n",
       "    <tr style=\"text-align: right;\">\n",
       "      <th></th>\n",
       "      <th>loss</th>\n",
       "      <th>accuracy</th>\n",
       "      <th>val_loss</th>\n",
       "      <th>val_accuracy</th>\n",
       "      <th>epoch</th>\n",
       "      <th>Learning Rate</th>\n",
       "    </tr>\n",
       "  </thead>\n",
       "  <tbody>\n",
       "  </tbody>\n",
       "</table>\n",
       "</div>"
      ],
      "text/plain": [
       "Empty DataFrame\n",
       "Columns: [loss, accuracy, val_loss, val_accuracy, epoch, Learning Rate]\n",
       "Index: []"
      ]
     },
     "execution_count": 44,
     "metadata": {},
     "output_type": "execute_result"
    }
   ],
   "source": [
    "df[df.index.duplicated()]"
   ]
  },
  {
   "cell_type": "code",
   "execution_count": 45,
   "metadata": {},
   "outputs": [
    {
     "data": {
      "image/png": "[encoded data removed]",
      "text/plain": [
       "<Figure size 864x432 with 2 Axes>"
      ]
     },
     "metadata": {
      "needs_background": "light"
     },
     "output_type": "display_data"
    }
   ],
   "source": [
    "fig, (ax1, ax2) = plt.subplots(1, 2, figsize=(12,6))\n",
    "sns.lineplot(x='epoch', y='val_loss', hue='Learning Rate', data=df, ax=ax1)\n",
    "sns.lineplot(x='epoch', y='val_accuracy', hue='Learning Rate', data=df, ax=ax2);"
   ]
  },
  {
   "cell_type": "code",
   "execution_count": null,
   "metadata": {},
   "outputs": [],
   "source": []
  }
 ],
 "metadata": {
  "interpreter": {
   "hash": "0b8e1b44fef6f769bdcd84daa9e6bcf329c54142ae85aa21700236386f9708da"
  },
  "kernelspec": {
   "display_name": "Python 3.9.9 64-bit (windows store)",
   "language": "python",
   "name": "python3"
  },
  "language_info": {
   "codemirror_mode": {
    "name": "ipython",
    "version": 3
   },
   "file_extension": ".py",
   "mimetype": "text/x-python",
   "name": "python",
   "nbconvert_exporter": "python",
   "pygments_lexer": "ipython3",
   "version": "3.9.9"
  },
  "orig_nbformat": 4
 },
 "nbformat": 4,
 "nbformat_minor": 2
}
