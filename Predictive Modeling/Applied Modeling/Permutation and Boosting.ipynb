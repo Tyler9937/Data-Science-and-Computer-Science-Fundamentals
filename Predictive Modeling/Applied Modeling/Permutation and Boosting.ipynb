{
 "cells": [
  {
   "cell_type": "markdown",
   "metadata": {},
   "source": [
    "# Permutation and Boosting"
   ]
  },
  {
   "cell_type": "markdown",
   "metadata": {},
   "source": [
    "**Import libraries**"
   ]
  },
  {
   "cell_type": "code",
   "execution_count": 66,
   "metadata": {},
   "outputs": [],
   "source": [
    "import pandas as pd\n",
    "import numpy as np\n",
    "\n",
    "from sklearn import datasets\n",
    "from sklearn.compose import ColumnTransformer\n",
    "from sklearn.pipeline import Pipeline\n",
    "from sklearn.impute import SimpleImputer\n",
    "from sklearn.preprocessing import StandardScaler, OrdinalEncoder, LabelEncoder\n",
    "from sklearn.tree import DecisionTreeClassifier\n",
    "from sklearn.model_selection import train_test_split\n",
    "from sklearn.ensemble import AdaBoostClassifier\n",
    "from xgboost import XGBClassifier\n",
    "from sklearn.ensemble import RandomForestClassifier"
   ]
  },
  {
   "cell_type": "markdown",
   "metadata": {},
   "source": [
    "### Permutation importance\n",
    "\n",
    "The process works something like this:\n",
    "\n",
    "- Fit a model and calculate the accuracy\n",
    "- Choose a feature (by ranking the importances or some other method) and randomly permute the values for just that feature\n",
    "- Calculate the accuracy again with the permuted column\n",
    "- Results in a decrease in accuracy: that feature is important to the model\n",
    "- Results in an accuracy that stays the same: the feature isn't important to the model and could be replaced by random numbers"
   ]
  },
  {
   "cell_type": "markdown",
   "metadata": {},
   "source": [
    "**Permutation importance example with Austrailian weather dataset**"
   ]
  },
  {
   "cell_type": "code",
   "execution_count": 51,
   "metadata": {},
   "outputs": [],
   "source": [
    "df = pd.read_csv('data/weatherAUS.csv')\n",
    "\n",
    "# Drop columns with high-percentage of missing values (and the leaky feature)\n",
    "cols_drop = ['Location', 'Evaporation', 'Sunshine', 'Cloud9am', 'Cloud3pm']\n",
    "df = df.drop(cols_drop, axis=1)\n",
    "df['Date'] = pd.to_datetime(df['Date'], infer_datetime_format=True).dt.month"
   ]
  },
  {
   "cell_type": "code",
   "execution_count": 52,
   "metadata": {},
   "outputs": [],
   "source": [
    "# Dropping rows missing RainTomorrow values\n",
    "df = df[df['RainTomorrow'].notna()]"
   ]
  },
  {
   "cell_type": "markdown",
   "metadata": {},
   "source": [
    "**Creating the pipline**"
   ]
  },
  {
   "cell_type": "code",
   "execution_count": 53,
   "metadata": {},
   "outputs": [],
   "source": [
    "# Define the numeric features\n",
    "numeric_features = ['MinTemp', 'MaxTemp', 'Rainfall', 'WindGustSpeed', \n",
    "                    'WindSpeed9am','WindSpeed3pm', 'Humidity9am', \n",
    "                    'Humidity3pm', 'Pressure9am','Pressure3pm', \n",
    "                    'Temp9am', 'Temp3pm']\n",
    "\n",
    "# Create the transformer (impute, scale)\n",
    "numeric_transformer = Pipeline(steps=[\n",
    "    ('imputer', SimpleImputer(strategy='median')),\n",
    "    ('scaler', StandardScaler())])\n",
    "\n",
    "# Define the categorical features\n",
    "categorical_features = ['WindGustDir', 'WindDir9am', 'WindDir3pm', 'RainToday']\n",
    "categorical_transformer = Pipeline(steps=[\n",
    "    ('imputer', SimpleImputer(strategy='constant', fill_value='missing')),\n",
    "    ('ordinal', OrdinalEncoder())])\n",
    "\n",
    "# Define how the numeric and categorical features will be transformed\n",
    "preprocessor = ColumnTransformer(\n",
    "    transformers=[\n",
    "        ('num', numeric_transformer, numeric_features),\n",
    "        ('cat', categorical_transformer, categorical_features)])\n",
    "\n",
    "# Define the pipeline steps, including the classifier\n",
    "clf = Pipeline(steps=[('preprocessor', preprocessor),\n",
    "                  ('classifier', DecisionTreeClassifier())])\n"
   ]
  },
  {
   "cell_type": "markdown",
   "metadata": {},
   "source": [
    "**Train and fit model**"
   ]
  },
  {
   "cell_type": "code",
   "execution_count": 54,
   "metadata": {},
   "outputs": [
    {
     "name": "stdout",
     "output_type": "stream",
     "text": [
      "Validation Accuracy 0.7787545272337283\n"
     ]
    }
   ],
   "source": [
    "# Feature Matrix\n",
    "X = df.drop('RainTomorrow', axis=1)\n",
    "label_enc = LabelEncoder()\n",
    "\n",
    "y = label_enc.fit_transform(df['RainTomorrow'])\n",
    "\n",
    "# Create training and test set\n",
    "X_train, X_test, y_train, y_test = train_test_split(\n",
    "    X, y, test_size=0.2, random_state=42)\n",
    "\n",
    "# Fit the model\n",
    "clf.fit(X_train, y_train)\n",
    "print('Validation Accuracy', clf.score(X_test, y_test))"
   ]
  },
  {
   "cell_type": "markdown",
   "metadata": {},
   "source": [
    "**Feature Importances**\n",
    "\n",
    "- removed the leaky featrues"
   ]
  },
  {
   "cell_type": "code",
   "execution_count": 55,
   "metadata": {},
   "outputs": [
    {
     "data": {
      "image/png": "[encoded data removed]",
      "text/plain": [
       "<Figure size 720x360 with 1 Axes>"
      ]
     },
     "metadata": {
      "needs_background": "light"
     },
     "output_type": "display_data"
    }
   ],
   "source": [
    "# Features (order in which they were preprocessed)\n",
    "feature_order = numeric_features + categorical_features\n",
    "\n",
    "importances = pd.Series(clf.steps[1][1].feature_importances_, feature_order)\n",
    "\n",
    "# Plot feature importances\n",
    "import matplotlib.pyplot as plt\n",
    "\n",
    "n = 10\n",
    "plt.figure(figsize=(10,n/2))\n",
    "plt.title(f'Top {n} features')\n",
    "importances.sort_values()[-n:].plot.barh(color='grey')\n",
    "plt.show();"
   ]
  },
  {
   "cell_type": "markdown",
   "metadata": {},
   "source": [
    "**Performing permutation analysis on the top features**\n",
    "\n",
    "for Humidity3pm we see a large decrease in accuracy show that feature is important to the model.\n",
    "\n",
    "for WindSpeed3pm we do not see a huge drop in accuracy so this feature is not important to the model and can easiley be replaced with random numbers"
   ]
  },
  {
   "cell_type": "code",
   "execution_count": 56,
   "metadata": {},
   "outputs": [
    {
     "name": "stdout",
     "output_type": "stream",
     "text": [
      "Feature permuted:  Humidity3pm\n",
      "Validation Accuracy 0.7787545272337283\n",
      "Validation Accuracy (permuted) 0.7006927107141602\n"
     ]
    }
   ],
   "source": [
    "# Permute the values in the more important column\n",
    "feature = 'Humidity3pm'\n",
    "X_test_permuted = X_test.copy()\n",
    "\n",
    "# Fill missing values\n",
    "X_test_permuted[feature].fillna(value = X_test_permuted[feature].median, inplace=True)\n",
    "\n",
    "# permute\n",
    "X_test_permuted[feature] = np.random.permutation(X_test[feature])\n",
    "\n",
    "print('Feature permuted: ', feature)\n",
    "print('Validation Accuracy', clf.score(X_test, y_test))\n",
    "print('Validation Accuracy (permuted)', clf.score(X_test_permuted, y_test))"
   ]
  },
  {
   "cell_type": "code",
   "execution_count": 57,
   "metadata": {},
   "outputs": [
    {
     "name": "stdout",
     "output_type": "stream",
     "text": [
      "Feature permuted:  WindSpeed3pm\n",
      "Validation Accuracy 0.7787545272337283\n",
      "Validation Accuracy (permuted) 0.7670100917753789\n"
     ]
    }
   ],
   "source": [
    "# Permute the values in a less important column\n",
    "feature = 'WindSpeed3pm'\n",
    "X_test_permuted = X_test.copy()\n",
    "\n",
    "# Fill in missing values\n",
    "X_test_permuted[feature].fillna(value = X_test_permuted[feature].median(), inplace=True)\n",
    "\n",
    "# Permute\n",
    "X_test_permuted[feature] = np.random.permutation(X_test[feature])\n",
    "\n",
    "print('Feature permuted: ', feature)\n",
    "print('Validation Accuracy', clf.score(X_test, y_test))\n",
    "print('Validation Accuracy (permuted)', clf.score(X_test_permuted, y_test))"
   ]
  },
  {
   "cell_type": "markdown",
   "metadata": {},
   "source": [
    "**Bagging**\n",
    "\n",
    "Earlier in the sprint, we used a random forest ensemble method, where the ensemble was a collection of trees. An ensemble method makes use of bootstrap sampling where random samples are drawn from the training set with replacement. A decision tree is trained on each sample and each tree gets a \"vote\" for the class. The class with the most votes wins. This process is called bootstrap aggregating or bagging.\n",
    "\n",
    "**Boosting**\n",
    "\n",
    "Another important process in machine learning is boosting. For our example, we'll start by training our data set with a weak learner which is often a decision tree with one node or split (called a stump). Then, we’ll find the data that was misclassified and start the next round by assigning those data points a larger weight. We will continue to train decision tree stumps and add larger weights to the \"mistakes\" from each model. The samples that are difficult to classify will receive increasingly larger weights and eventually be correctly classified. This process is called adaptive boosting and is the source of the AdaBoost() name.\n",
    "\n",
    "**Gradient Boosting**\n",
    "\n",
    "Gradient boosting is another boosting technique that makes use of a gradient descent method when adding trees to the model. When a tree is added, the hyperparameters are adjusted to minimize the loss function following the negative gradient. The popular XGBoost algorithm makes use of this process."
   ]
  },
  {
   "cell_type": "markdown",
   "metadata": {},
   "source": [
    "### Boosting example with iris dataset"
   ]
  },
  {
   "cell_type": "markdown",
   "metadata": {},
   "source": [
    "**Random Forest**"
   ]
  },
  {
   "cell_type": "code",
   "execution_count": 67,
   "metadata": {},
   "outputs": [
    {
     "name": "stdout",
     "output_type": "stream",
     "text": [
      "Validation Accuracy: Adaboost 0.9833333333333333\n"
     ]
    }
   ],
   "source": [
    "# Create X, y and training/test sets\n",
    "iris = datasets.load_iris()\n",
    "X = iris.data\n",
    "y = iris.target\n",
    "\n",
    "X_train, X_test, y_train, y_test = train_test_split(\n",
    "    X, y, test_size=0.4, random_state=42)\n",
    "\n",
    "model = RandomForestClassifier()\n",
    "model.fit(X_train, y_train)\n",
    "\n",
    "print('Validation Accuracy: Adaboost', model.score(X_test, y_test))"
   ]
  },
  {
   "cell_type": "markdown",
   "metadata": {},
   "source": [
    "**ada_boost**"
   ]
  },
  {
   "cell_type": "code",
   "execution_count": 60,
   "metadata": {},
   "outputs": [
    {
     "name": "stdout",
     "output_type": "stream",
     "text": [
      "Validation Accuracy: Adaboost 0.9666666666666667\n"
     ]
    }
   ],
   "source": [
    "# Create X, y and training/test sets\n",
    "iris = datasets.load_iris()\n",
    "X = iris.data\n",
    "y = iris.target\n",
    "\n",
    "X_train, X_test, y_train, y_test = train_test_split(\n",
    "    X, y, test_size=0.4, random_state=42)\n",
    "\n",
    "ada_classifier = AdaBoostClassifier(n_estimators=50, learning_rate=1.5, random_state=42)\n",
    "ada_classifier.fit(X_train,y_train)\n",
    "\n",
    "print('Validation Accuracy: Adaboost', ada_classifier.score(X_test, y_test))"
   ]
  },
  {
   "cell_type": "markdown",
   "metadata": {},
   "source": [
    "**Gradient Boost**"
   ]
  },
  {
   "cell_type": "code",
   "execution_count": 64,
   "metadata": {},
   "outputs": [
    {
     "name": "stderr",
     "output_type": "stream",
     "text": [
      "C:\\Users\\tyler\\AppData\\Local\\Programs\\Python\\Python36\\lib\\site-packages\\xgboost\\sklearn.py:1224: UserWarning: The use of label encoder in XGBClassifier is deprecated and will be removed in a future release. To remove this warning, do the following: 1) Pass option use_label_encoder=False when constructing XGBClassifier object; and 2) Encode your labels (y) as integers starting with 0, i.e. 0, 1, 2, ..., [num_class - 1].\n",
      "  warnings.warn(label_encoder_deprecation_msg, UserWarning)\n"
     ]
    },
    {
     "name": "stdout",
     "output_type": "stream",
     "text": [
      "Validation Accuracy: Adaboost 0.9833333333333333\n"
     ]
    }
   ],
   "source": [
    "xg_classifier = XGBClassifier(n_estimators=50, random_state=42, eval_metric='merror')\n",
    "\n",
    "xg_classifier.fit(X_train,y_train)\n",
    "\n",
    "print('Validation Accuracy: Adaboost', xg_classifier.score(X_test, y_test))"
   ]
  }
 ],
 "metadata": {
  "interpreter": {
   "hash": "8deca82d3bc03ac877f14f4e3cfa1c6cad7fc5e89892089bcb6f966ce50b49e2"
  },
  "kernelspec": {
   "display_name": "Python 3.6.5 64-bit",
   "language": "python",
   "name": "python3"
  },
  "language_info": {
   "codemirror_mode": {
    "name": "ipython",
    "version": 3
   },
   "file_extension": ".py",
   "mimetype": "text/x-python",
   "name": "python",
   "nbconvert_exporter": "python",
   "pygments_lexer": "ipython3",
   "version": "3.6.5"
  },
  "orig_nbformat": 4
 },
 "nbformat": 4,
 "nbformat_minor": 2
}
