{
 "cells": [
  {
   "cell_type": "markdown",
   "metadata": {},
   "source": [
    "# Wrangle ML Datasets"
   ]
  },
  {
   "cell_type": "markdown",
   "metadata": {},
   "source": [
    "**import libraries**"
   ]
  },
  {
   "cell_type": "code",
   "execution_count": 251,
   "metadata": {},
   "outputs": [],
   "source": [
    "import pandas as pd"
   ]
  },
  {
   "cell_type": "markdown",
   "metadata": {},
   "source": [
    "### Data wrangling with USGS Earthquake Catalog and the PNSN Earthquake catalog dataset"
   ]
  },
  {
   "cell_type": "code",
   "execution_count": 252,
   "metadata": {},
   "outputs": [],
   "source": [
    "cols_one = ['Date', 'Time', 'Latitude', 'Longitude', 'Depth', 'Magnitude', 'Magnitude Type']\n",
    "eq_one = pd.read_csv('data/earthquakeone.csv', usecols=cols_one)\n",
    "cols_two = ['time', 'latitude', 'longitude', 'depth', 'mag', 'magType']\n",
    "eq_two = pd.read_csv('data/earthquaketwo.csv', usecols=cols_two)"
   ]
  },
  {
   "cell_type": "code",
   "execution_count": 253,
   "metadata": {},
   "outputs": [
    {
     "data": {
      "text/html": [
       "<div>\n",
       "<style scoped>\n",
       "    .dataframe tbody tr th:only-of-type {\n",
       "        vertical-align: middle;\n",
       "    }\n",
       "\n",
       "    .dataframe tbody tr th {\n",
       "        vertical-align: top;\n",
       "    }\n",
       "\n",
       "    .dataframe thead th {\n",
       "        text-align: right;\n",
       "    }\n",
       "</style>\n",
       "<table border=\"1\" class=\"dataframe\">\n",
       "  <thead>\n",
       "    <tr style=\"text-align: right;\">\n",
       "      <th></th>\n",
       "      <th>Date</th>\n",
       "      <th>Time</th>\n",
       "      <th>Latitude</th>\n",
       "      <th>Longitude</th>\n",
       "      <th>Depth</th>\n",
       "      <th>Magnitude</th>\n",
       "      <th>Magnitude Type</th>\n",
       "    </tr>\n",
       "  </thead>\n",
       "  <tbody>\n",
       "    <tr>\n",
       "      <th>0</th>\n",
       "      <td>01/02/1965</td>\n",
       "      <td>13:44:18</td>\n",
       "      <td>19.246</td>\n",
       "      <td>145.616</td>\n",
       "      <td>131.6</td>\n",
       "      <td>6.0</td>\n",
       "      <td>MW</td>\n",
       "    </tr>\n",
       "    <tr>\n",
       "      <th>1</th>\n",
       "      <td>01/04/1965</td>\n",
       "      <td>11:29:49</td>\n",
       "      <td>1.863</td>\n",
       "      <td>127.352</td>\n",
       "      <td>80.0</td>\n",
       "      <td>5.8</td>\n",
       "      <td>MW</td>\n",
       "    </tr>\n",
       "    <tr>\n",
       "      <th>2</th>\n",
       "      <td>01/05/1965</td>\n",
       "      <td>18:05:58</td>\n",
       "      <td>-20.579</td>\n",
       "      <td>-173.972</td>\n",
       "      <td>20.0</td>\n",
       "      <td>6.2</td>\n",
       "      <td>MW</td>\n",
       "    </tr>\n",
       "    <tr>\n",
       "      <th>3</th>\n",
       "      <td>01/08/1965</td>\n",
       "      <td>18:49:43</td>\n",
       "      <td>-59.076</td>\n",
       "      <td>-23.557</td>\n",
       "      <td>15.0</td>\n",
       "      <td>5.8</td>\n",
       "      <td>MW</td>\n",
       "    </tr>\n",
       "    <tr>\n",
       "      <th>4</th>\n",
       "      <td>01/09/1965</td>\n",
       "      <td>13:32:50</td>\n",
       "      <td>11.938</td>\n",
       "      <td>126.427</td>\n",
       "      <td>15.0</td>\n",
       "      <td>5.8</td>\n",
       "      <td>MW</td>\n",
       "    </tr>\n",
       "  </tbody>\n",
       "</table>\n",
       "</div>"
      ],
      "text/plain": [
       "         Date      Time  Latitude  Longitude  Depth  Magnitude Magnitude Type\n",
       "0  01/02/1965  13:44:18    19.246    145.616  131.6        6.0             MW\n",
       "1  01/04/1965  11:29:49     1.863    127.352   80.0        5.8             MW\n",
       "2  01/05/1965  18:05:58   -20.579   -173.972   20.0        6.2             MW\n",
       "3  01/08/1965  18:49:43   -59.076    -23.557   15.0        5.8             MW\n",
       "4  01/09/1965  13:32:50    11.938    126.427   15.0        5.8             MW"
      ]
     },
     "execution_count": 253,
     "metadata": {},
     "output_type": "execute_result"
    }
   ],
   "source": [
    "eq_one.head()"
   ]
  },
  {
   "cell_type": "code",
   "execution_count": 254,
   "metadata": {},
   "outputs": [
    {
     "data": {
      "text/html": [
       "<div>\n",
       "<style scoped>\n",
       "    .dataframe tbody tr th:only-of-type {\n",
       "        vertical-align: middle;\n",
       "    }\n",
       "\n",
       "    .dataframe tbody tr th {\n",
       "        vertical-align: top;\n",
       "    }\n",
       "\n",
       "    .dataframe thead th {\n",
       "        text-align: right;\n",
       "    }\n",
       "</style>\n",
       "<table border=\"1\" class=\"dataframe\">\n",
       "  <thead>\n",
       "    <tr style=\"text-align: right;\">\n",
       "      <th></th>\n",
       "      <th>time</th>\n",
       "      <th>latitude</th>\n",
       "      <th>longitude</th>\n",
       "      <th>depth</th>\n",
       "      <th>mag</th>\n",
       "      <th>magType</th>\n",
       "    </tr>\n",
       "  </thead>\n",
       "  <tbody>\n",
       "    <tr>\n",
       "      <th>0</th>\n",
       "      <td>2021-12-09T02:45:40.630Z</td>\n",
       "      <td>35.913167</td>\n",
       "      <td>-117.727000</td>\n",
       "      <td>6.94</td>\n",
       "      <td>0.85</td>\n",
       "      <td>ml</td>\n",
       "    </tr>\n",
       "    <tr>\n",
       "      <th>1</th>\n",
       "      <td>2021-12-09T02:14:45.494Z</td>\n",
       "      <td>63.542500</td>\n",
       "      <td>-146.192400</td>\n",
       "      <td>95.20</td>\n",
       "      <td>2.40</td>\n",
       "      <td>ml</td>\n",
       "    </tr>\n",
       "    <tr>\n",
       "      <th>2</th>\n",
       "      <td>2021-12-09T02:07:00.080Z</td>\n",
       "      <td>32.694667</td>\n",
       "      <td>-115.759333</td>\n",
       "      <td>3.92</td>\n",
       "      <td>1.72</td>\n",
       "      <td>ml</td>\n",
       "    </tr>\n",
       "    <tr>\n",
       "      <th>3</th>\n",
       "      <td>2021-12-09T02:05:07.876Z</td>\n",
       "      <td>29.407100</td>\n",
       "      <td>129.400600</td>\n",
       "      <td>10.00</td>\n",
       "      <td>5.90</td>\n",
       "      <td>mww</td>\n",
       "    </tr>\n",
       "    <tr>\n",
       "      <th>4</th>\n",
       "      <td>2021-12-09T02:03:21.984Z</td>\n",
       "      <td>61.360000</td>\n",
       "      <td>-151.785600</td>\n",
       "      <td>26.50</td>\n",
       "      <td>0.60</td>\n",
       "      <td>ml</td>\n",
       "    </tr>\n",
       "  </tbody>\n",
       "</table>\n",
       "</div>"
      ],
      "text/plain": [
       "                       time   latitude   longitude  depth   mag magType\n",
       "0  2021-12-09T02:45:40.630Z  35.913167 -117.727000   6.94  0.85      ml\n",
       "1  2021-12-09T02:14:45.494Z  63.542500 -146.192400  95.20  2.40      ml\n",
       "2  2021-12-09T02:07:00.080Z  32.694667 -115.759333   3.92  1.72      ml\n",
       "3  2021-12-09T02:05:07.876Z  29.407100  129.400600  10.00  5.90     mww\n",
       "4  2021-12-09T02:03:21.984Z  61.360000 -151.785600  26.50  0.60      ml"
      ]
     },
     "execution_count": 254,
     "metadata": {},
     "output_type": "execute_result"
    }
   ],
   "source": [
    "eq_two.head()"
   ]
  },
  {
   "cell_type": "markdown",
   "metadata": {},
   "source": [
    "### Formating magType"
   ]
  },
  {
   "cell_type": "code",
   "execution_count": 255,
   "metadata": {},
   "outputs": [],
   "source": [
    "eq_two['magType'] = eq_two['magType'].astype(str)\n",
    "eq_two['magType'] = eq_two['magType'].map(lambda x: x.upper())"
   ]
  },
  {
   "cell_type": "markdown",
   "metadata": {},
   "source": [
    "### Formating DateTime features for both dataframes"
   ]
  },
  {
   "cell_type": "markdown",
   "metadata": {},
   "source": [
    "**DateTime for eq_two**"
   ]
  },
  {
   "cell_type": "code",
   "execution_count": 256,
   "metadata": {},
   "outputs": [
    {
     "data": {
      "text/plain": [
       "dtype('<M8[ns]')"
      ]
     },
     "execution_count": 256,
     "metadata": {},
     "output_type": "execute_result"
    }
   ],
   "source": [
    "# Converting from string to datetime object\n",
    "eq_two['time'] = eq_two['time'].map(lambda x: x.replace('T', ' '))\n",
    "eq_two['time'] = eq_two['time'].map(lambda x: x.replace('Z', ''))\n",
    "eq_two['time'] = eq_two['time'].map(lambda x: x[:-3])\n",
    "eq_two['time'] = pd.to_datetime(eq_two['time'], infer_datetime_format=True)\n",
    "eq_two['time'].dtype"
   ]
  },
  {
   "cell_type": "markdown",
   "metadata": {},
   "source": [
    "**DateTime for eq_one**"
   ]
  },
  {
   "cell_type": "code",
   "execution_count": 257,
   "metadata": {},
   "outputs": [],
   "source": [
    "# Formating and removing to convert two string columns into one joint datatime column\n",
    "eq_one['Date'] = eq_one['Date'].apply(lambda x: x + ' ')\n",
    "\n",
    "eq_one['Time'] = eq_one['Date'] + eq_one['Time']\n",
    "\n",
    "eq_one = eq_one[eq_one['Time'] != '1975-02-23T02:58:41.000Z 1975-02-23T02:58:41.000Z']\n",
    "eq_one = eq_one[eq_one['Time'] != '1985-04-28T02:53:41.530Z 1985-04-28T02:53:41.530Z']\n",
    "eq_one = eq_one[eq_one['Time'] != '2011-03-13T02:23:34.520Z 2011-03-13T02:23:34.520Z']\n",
    "\n",
    "eq_one['Time'] = pd.to_datetime(eq_one['Time'], infer_datetime_format=True)\n",
    "\n",
    "eq_one = eq_one.drop('Date', axis=1)"
   ]
  },
  {
   "cell_type": "markdown",
   "metadata": {},
   "source": [
    "### Rename columns"
   ]
  },
  {
   "cell_type": "code",
   "execution_count": 258,
   "metadata": {},
   "outputs": [],
   "source": [
    "# Rename columns\n",
    "new_cols = ['time','latitude','longitude','depth','mag','magType',]\n",
    "eq_one.columns = new_cols"
   ]
  },
  {
   "cell_type": "markdown",
   "metadata": {},
   "source": [
    "### Combining the dataframes"
   ]
  },
  {
   "cell_type": "code",
   "execution_count": 259,
   "metadata": {},
   "outputs": [
    {
     "name": "stdout",
     "output_type": "stream",
     "text": [
      "Size of DataFrame before dropping duplicates:  (32594, 6)\n",
      "Size of DataFrame after dropping duplicates:  (32554, 6)\n"
     ]
    }
   ],
   "source": [
    "df = pd.concat([eq_one, eq_two], ignore_index=True)\n",
    "print('Size of DataFrame before dropping duplicates: ', df.shape)\n",
    "\n",
    "df.drop_duplicates(subset='time', inplace=True)\n",
    "print('Size of DataFrame after dropping duplicates: ', df.shape)"
   ]
  }
 ],
 "metadata": {
  "interpreter": {
   "hash": "8deca82d3bc03ac877f14f4e3cfa1c6cad7fc5e89892089bcb6f966ce50b49e2"
  },
  "kernelspec": {
   "display_name": "Python 3.6.5 64-bit",
   "language": "python",
   "name": "python3"
  },
  "language_info": {
   "codemirror_mode": {
    "name": "ipython",
    "version": 3
   },
   "file_extension": ".py",
   "mimetype": "text/x-python",
   "name": "python",
   "nbconvert_exporter": "python",
   "pygments_lexer": "ipython3",
   "version": "3.6.5"
  },
  "orig_nbformat": 4
 },
 "nbformat": 4,
 "nbformat_minor": 2
}
