{
 "cells": [
  {
   "cell_type": "markdown",
   "metadata": {},
   "source": [
    "# Multiple Regression"
   ]
  },
  {
   "cell_type": "markdown",
   "metadata": {},
   "source": [
    "**Importing Libraries**"
   ]
  },
  {
   "cell_type": "code",
   "execution_count": 13,
   "metadata": {},
   "outputs": [],
   "source": [
    "import pandas as pd\n",
    "import seaborn as sns\n",
    "from statsmodels.formula.api import ols\n",
    "import matplotlib.pyplot as plt"
   ]
  },
  {
   "cell_type": "markdown",
   "metadata": {},
   "source": [
    "### Multiple Regression and Car Crash Dataset\n",
    "\n",
    "when looking at the summery of OLS we see that the addition of the speeding feature did not add much and given the p-value has us fail to\n",
    "\n",
    "reject the original null hypothosis of that there is NO relationship between total accidents and speeding.\n",
    "\n",
    "When looking at the R2 value we actually see a small decrease meaning that the additional feature added very little to the explenation of varience.\n",
    "\n",
    "in this example we should consider not using speeding as a valid way to explain the relationship because errors in the data could negativly effect our result\n",
    "\n",
    "and there is little relationship between total crashes and speeding"
   ]
  },
  {
   "cell_type": "code",
   "execution_count": 7,
   "metadata": {},
   "outputs": [
    {
     "data": {
      "text/html": [
       "<div>\n",
       "<style scoped>\n",
       "    .dataframe tbody tr th:only-of-type {\n",
       "        vertical-align: middle;\n",
       "    }\n",
       "\n",
       "    .dataframe tbody tr th {\n",
       "        vertical-align: top;\n",
       "    }\n",
       "\n",
       "    .dataframe thead th {\n",
       "        text-align: right;\n",
       "    }\n",
       "</style>\n",
       "<table border=\"1\" class=\"dataframe\">\n",
       "  <thead>\n",
       "    <tr style=\"text-align: right;\">\n",
       "      <th></th>\n",
       "      <th>total</th>\n",
       "      <th>speeding</th>\n",
       "      <th>alcohol</th>\n",
       "      <th>not_distracted</th>\n",
       "      <th>no_previous</th>\n",
       "      <th>ins_premium</th>\n",
       "      <th>ins_losses</th>\n",
       "      <th>abbrev</th>\n",
       "    </tr>\n",
       "  </thead>\n",
       "  <tbody>\n",
       "    <tr>\n",
       "      <th>0</th>\n",
       "      <td>18.8</td>\n",
       "      <td>7.332</td>\n",
       "      <td>5.640</td>\n",
       "      <td>18.048</td>\n",
       "      <td>15.040</td>\n",
       "      <td>784.55</td>\n",
       "      <td>145.08</td>\n",
       "      <td>AL</td>\n",
       "    </tr>\n",
       "    <tr>\n",
       "      <th>1</th>\n",
       "      <td>18.1</td>\n",
       "      <td>7.421</td>\n",
       "      <td>4.525</td>\n",
       "      <td>16.290</td>\n",
       "      <td>17.014</td>\n",
       "      <td>1053.48</td>\n",
       "      <td>133.93</td>\n",
       "      <td>AK</td>\n",
       "    </tr>\n",
       "    <tr>\n",
       "      <th>2</th>\n",
       "      <td>18.6</td>\n",
       "      <td>6.510</td>\n",
       "      <td>5.208</td>\n",
       "      <td>15.624</td>\n",
       "      <td>17.856</td>\n",
       "      <td>899.47</td>\n",
       "      <td>110.35</td>\n",
       "      <td>AZ</td>\n",
       "    </tr>\n",
       "    <tr>\n",
       "      <th>3</th>\n",
       "      <td>22.4</td>\n",
       "      <td>4.032</td>\n",
       "      <td>5.824</td>\n",
       "      <td>21.056</td>\n",
       "      <td>21.280</td>\n",
       "      <td>827.34</td>\n",
       "      <td>142.39</td>\n",
       "      <td>AR</td>\n",
       "    </tr>\n",
       "    <tr>\n",
       "      <th>4</th>\n",
       "      <td>12.0</td>\n",
       "      <td>4.200</td>\n",
       "      <td>3.360</td>\n",
       "      <td>10.920</td>\n",
       "      <td>10.680</td>\n",
       "      <td>878.41</td>\n",
       "      <td>165.63</td>\n",
       "      <td>CA</td>\n",
       "    </tr>\n",
       "  </tbody>\n",
       "</table>\n",
       "</div>"
      ],
      "text/plain": [
       "   total  speeding  alcohol  not_distracted  no_previous  ins_premium  \\\n",
       "0   18.8     7.332    5.640          18.048       15.040       784.55   \n",
       "1   18.1     7.421    4.525          16.290       17.014      1053.48   \n",
       "2   18.6     6.510    5.208          15.624       17.856       899.47   \n",
       "3   22.4     4.032    5.824          21.056       21.280       827.34   \n",
       "4   12.0     4.200    3.360          10.920       10.680       878.41   \n",
       "\n",
       "   ins_losses abbrev  \n",
       "0      145.08     AL  \n",
       "1      133.93     AK  \n",
       "2      110.35     AZ  \n",
       "3      142.39     AR  \n",
       "4      165.63     CA  "
      ]
     },
     "execution_count": 7,
     "metadata": {},
     "output_type": "execute_result"
    }
   ],
   "source": [
    "# Load the car crash dataset\n",
    "df = sns.load_dataset(\"car_crashes\")\n",
    "\n",
    "df.head()"
   ]
  },
  {
   "cell_type": "code",
   "execution_count": 4,
   "metadata": {},
   "outputs": [
    {
     "name": "stdout",
     "output_type": "stream",
     "text": [
      "                            OLS Regression Results                            \n",
      "==============================================================================\n",
      "Dep. Variable:                  total   R-squared:                       0.730\n",
      "Model:                            OLS   Adj. R-squared:                  0.719\n",
      "Method:                 Least Squares   F-statistic:                     64.87\n",
      "Date:                Mon, 06 Dec 2021   Prob (F-statistic):           2.27e-14\n",
      "Time:                        12:46:48   Log-Likelihood:                -110.71\n",
      "No. Observations:                  51   AIC:                             227.4\n",
      "Df Residuals:                      48   BIC:                             233.2\n",
      "Df Model:                           2                                         \n",
      "Covariance Type:            nonrobust                                         \n",
      "==============================================================================\n",
      "                 coef    std err          t      P>|t|      [0.025      0.975]\n",
      "------------------------------------------------------------------------------\n",
      "Intercept      5.6807      0.957      5.934      0.000       3.756       7.606\n",
      "alcohol        1.9152      0.241      7.954      0.000       1.431       2.399\n",
      "speeding       0.1502      0.206      0.728      0.470      -0.265       0.565\n",
      "==============================================================================\n",
      "Omnibus:                        2.495   Durbin-Watson:                   1.809\n",
      "Prob(Omnibus):                  0.287   Jarque-Bera (JB):                2.045\n",
      "Skew:                           0.490   Prob(JB):                        0.360\n",
      "Kurtosis:                       2.978   Cond. No.                         23.5\n",
      "==============================================================================\n",
      "\n",
      "Notes:\n",
      "[1] Standard Errors assume that the covariance matrix of the errors is correctly specified.\n"
     ]
    }
   ],
   "source": [
    "# Set-up and fit the model in one step\n",
    "# (format Y ~ X1 + X2)\n",
    "model = ols('total ~ alcohol + speeding', data=crashes).fit()\n",
    "\n",
    "# Print the model summary\n",
    "print(model.summary())"
   ]
  },
  {
   "cell_type": "markdown",
   "metadata": {},
   "source": [
    "### Using Multiple Variables to Increase our Ability to Predict Total Crashes"
   ]
  },
  {
   "cell_type": "markdown",
   "metadata": {},
   "source": [
    "**Setting up baseline score with total crashes and alcohol**"
   ]
  },
  {
   "cell_type": "code",
   "execution_count": 12,
   "metadata": {},
   "outputs": [
    {
     "name": "stdout",
     "output_type": "stream",
     "text": [
      "                            OLS Regression Results                            \n",
      "==============================================================================\n",
      "Dep. Variable:                  total   R-squared:                       0.727\n",
      "Model:                            OLS   Adj. R-squared:                  0.721\n",
      "Method:                 Least Squares   F-statistic:                     130.5\n",
      "Date:                Mon, 06 Dec 2021   Prob (F-statistic):           2.04e-15\n",
      "Time:                        12:58:59   Log-Likelihood:                -110.99\n",
      "No. Observations:                  51   AIC:                             226.0\n",
      "Df Residuals:                      49   BIC:                             229.8\n",
      "Df Model:                           1                                         \n",
      "Covariance Type:            nonrobust                                         \n",
      "==============================================================================\n",
      "                 coef    std err          t      P>|t|      [0.025      0.975]\n",
      "------------------------------------------------------------------------------\n",
      "Intercept      5.8578      0.921      6.357      0.000       4.006       7.709\n",
      "alcohol        2.0325      0.178     11.422      0.000       1.675       2.390\n",
      "==============================================================================\n",
      "Omnibus:                        1.922   Durbin-Watson:                   1.776\n",
      "Prob(Omnibus):                  0.382   Jarque-Bera (JB):                1.705\n",
      "Skew:                           0.439   Prob(JB):                        0.426\n",
      "Kurtosis:                       2.824   Cond. No.                         16.2\n",
      "==============================================================================\n",
      "\n",
      "Notes:\n",
      "[1] Standard Errors assume that the covariance matrix of the errors is correctly specified.\n"
     ]
    }
   ],
   "source": [
    "model = ols('total ~ alcohol', data=df).fit()\n",
    "\n",
    "print(model.summary())"
   ]
  },
  {
   "cell_type": "markdown",
   "metadata": {},
   "source": [
    "**R-squared**\n",
    "Now we're going to look at a new result in our model summary: R-squared. This term is a statistical measure representing the proportion of the\n",
    "\n",
    "variance for a dependent variable explained by an independent variable (or variables) in a regression model. For our data, the R-squared value is \n",
    " \n",
    "the proportion of the variance for our variable total explained by our independent variable, alcohol.\n",
    "\n",
    "- we have an R-squared value of 0.727 or 73% (this is a proportion to express it as a percent). So 73% of the variance in total accidents is explained by alcohol impairment\n",
    "\n",
    "- Increasing our R2 value will increase our ability to explain the variance "
   ]
  },
  {
   "cell_type": "markdown",
   "metadata": {},
   "source": [
    "**Multiple Linear Regression**\n",
    "- adding the no_previous feature to our regression model"
   ]
  },
  {
   "cell_type": "code",
   "execution_count": 22,
   "metadata": {},
   "outputs": [
    {
     "data": {
      "image/png": "[encoded data removed]",
      "text/plain": [
       "<Figure size 1008x432 with 2 Axes>"
      ]
     },
     "metadata": {
      "needs_background": "light"
     },
     "output_type": "display_data"
    }
   ],
   "source": [
    "fig, [ax1, ax2] = plt.subplots(1, 2, figsize=(14,6))\n",
    "\n",
    "# Compare the two independent variables to each other - are they related?\n",
    "sns.scatterplot(x='alcohol', y='no_previous', data=df, s=50, ax=ax1)\n",
    "# The color no represents the percentage of speeding drivers\n",
    "sns.scatterplot(x='alcohol', y='total', hue='no_previous', data=df, s=50, palette='magma', ax=ax2);\n",
    "\n",
    "plt.show()"
   ]
  },
  {
   "cell_type": "markdown",
   "metadata": {},
   "source": [
    "**We see that with the additonal feature our R2 value went from 73% to 94%!**"
   ]
  },
  {
   "cell_type": "code",
   "execution_count": 23,
   "metadata": {},
   "outputs": [
    {
     "name": "stdout",
     "output_type": "stream",
     "text": [
      "                            OLS Regression Results                            \n",
      "==============================================================================\n",
      "Dep. Variable:                  total   R-squared:                       0.942\n",
      "Model:                            OLS   Adj. R-squared:                  0.940\n",
      "Method:                 Least Squares   F-statistic:                     389.7\n",
      "Date:                Mon, 06 Dec 2021   Prob (F-statistic):           2.11e-30\n",
      "Time:                        13:12:26   Log-Likelihood:                -71.494\n",
      "No. Observations:                  51   AIC:                             149.0\n",
      "Df Residuals:                      48   BIC:                             154.8\n",
      "Df Model:                           2                                         \n",
      "Covariance Type:            nonrobust                                         \n",
      "===============================================================================\n",
      "                  coef    std err          t      P>|t|      [0.025      0.975]\n",
      "-------------------------------------------------------------------------------\n",
      "Intercept       1.2258      0.552      2.221      0.031       0.116       2.336\n",
      "alcohol         0.6386      0.133      4.788      0.000       0.370       0.907\n",
      "no_previous     0.8171      0.061     13.338      0.000       0.694       0.940\n",
      "==============================================================================\n",
      "Omnibus:                       16.684   Durbin-Watson:                   1.807\n",
      "Prob(Omnibus):                  0.000   Jarque-Bera (JB):               22.817\n",
      "Skew:                           1.117   Prob(JB):                     1.11e-05\n",
      "Kurtosis:                       5.397   Cond. No.                         60.0\n",
      "==============================================================================\n",
      "\n",
      "Notes:\n",
      "[1] Standard Errors assume that the covariance matrix of the errors is correctly specified.\n"
     ]
    }
   ],
   "source": [
    "# Set-up and fit the model in one step\n",
    "# (format Y ~ X1 + X2)\n",
    "model = ols('total ~ alcohol + no_previous', data=df).fit()\n",
    "\n",
    "# Print the model summary\n",
    "print(model.summary())"
   ]
  },
  {
   "cell_type": "markdown",
   "metadata": {},
   "source": [
    "**Adding yet another feature further imporves our explanation of varience**\n",
    "\n",
    "- However, the adjusted R2 value accounts for the addition of another feature and if the feature does not adjust the R2 value sufficantl\n",
    "the Adj. R2 value will decrease"
   ]
  },
  {
   "cell_type": "code",
   "execution_count": 25,
   "metadata": {},
   "outputs": [
    {
     "name": "stdout",
     "output_type": "stream",
     "text": [
      "                            OLS Regression Results                            \n",
      "==============================================================================\n",
      "Dep. Variable:                  total   R-squared:                       0.956\n",
      "Model:                            OLS   Adj. R-squared:                  0.953\n",
      "Method:                 Least Squares   F-statistic:                     340.6\n",
      "Date:                Mon, 06 Dec 2021   Prob (F-statistic):           7.11e-32\n",
      "Time:                        13:18:01   Log-Likelihood:                -64.431\n",
      "No. Observations:                  51   AIC:                             136.9\n",
      "Df Residuals:                      47   BIC:                             144.6\n",
      "Df Model:                           3                                         \n",
      "Covariance Type:            nonrobust                                         \n",
      "==================================================================================\n",
      "                     coef    std err          t      P>|t|      [0.025      0.975]\n",
      "----------------------------------------------------------------------------------\n",
      "Intercept          1.0181      0.489      2.083      0.043       0.035       2.001\n",
      "alcohol            0.4650      0.126      3.702      0.001       0.212       0.718\n",
      "no_previous        0.7234      0.059     12.244      0.000       0.605       0.842\n",
      "not_distracted     0.1745      0.045      3.873      0.000       0.084       0.265\n",
      "==============================================================================\n",
      "Omnibus:                       21.615   Durbin-Watson:                   1.595\n",
      "Prob(Omnibus):                  0.000   Jarque-Bera (JB):               36.675\n",
      "Skew:                           1.314   Prob(JB):                     1.09e-08\n",
      "Kurtosis:                       6.218   Cond. No.                         82.0\n",
      "==============================================================================\n",
      "\n",
      "Notes:\n",
      "[1] Standard Errors assume that the covariance matrix of the errors is correctly specified.\n"
     ]
    }
   ],
   "source": [
    "model = ols('total ~ alcohol + no_previous + not_distracted', data=df).fit()\n",
    "\n",
    "print(model.summary())"
   ]
  },
  {
   "cell_type": "markdown",
   "metadata": {},
   "source": [
    "**Quick Prediction Test**"
   ]
  },
  {
   "cell_type": "code",
   "execution_count": 34,
   "metadata": {},
   "outputs": [
    {
     "name": "stdout",
     "output_type": "stream",
     "text": [
      "The actual total was: 18.8 the predicted total was:  0    17.670039\n",
      "dtype: float64\n"
     ]
    }
   ],
   "source": [
    "# Drawing one row from car crash dataset\n",
    "prediction = model.predict({'alcohol':[5.640], 'no_previous': [15.040], 'not_distracted': [18.048]})\n",
    "\n",
    "print('The actual total was: 18.8 the predicted total was: ', prediction)"
   ]
  }
 ],
 "metadata": {
  "interpreter": {
   "hash": "8deca82d3bc03ac877f14f4e3cfa1c6cad7fc5e89892089bcb6f966ce50b49e2"
  },
  "kernelspec": {
   "display_name": "Python 3.6.5 64-bit",
   "language": "python",
   "name": "python3"
  },
  "language_info": {
   "codemirror_mode": {
    "name": "ipython",
    "version": 3
   },
   "file_extension": ".py",
   "mimetype": "text/x-python",
   "name": "python",
   "nbconvert_exporter": "python",
   "pygments_lexer": "ipython3",
   "version": "3.6.5"
  },
  "orig_nbformat": 4
 },
 "nbformat": 4,
 "nbformat_minor": 2
}
