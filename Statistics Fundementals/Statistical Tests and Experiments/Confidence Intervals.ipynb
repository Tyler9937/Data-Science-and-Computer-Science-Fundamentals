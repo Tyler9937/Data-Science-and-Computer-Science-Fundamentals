{
 "cells": [
  {
   "cell_type": "markdown",
   "metadata": {},
   "source": [
    "# Confidence Intervals"
   ]
  },
  {
   "cell_type": "markdown",
   "metadata": {},
   "source": [
    "**import libraries**"
   ]
  },
  {
   "cell_type": "code",
   "execution_count": 1,
   "metadata": {},
   "outputs": [],
   "source": [
    "import pandas as pd\n",
    "import numpy as np\n",
    "import scipy.stats as stats\n",
    "import matplotlib.pyplot as plt\n",
    "import seaborn as sns"
   ]
  },
  {
   "cell_type": "markdown",
   "metadata": {},
   "source": [
    "# Standard Error"
   ]
  },
  {
   "cell_type": "markdown",
   "metadata": {},
   "source": [
    "The claimed mean for boxed ceral is 20. We can calculate the Standard Error of the Mean of or sample to see if the \n",
    "expected fits within our Standard Error"
   ]
  },
  {
   "cell_type": "code",
   "execution_count": 6,
   "metadata": {},
   "outputs": [
    {
     "data": {
      "text/html": [
       "<div>\n",
       "<style scoped>\n",
       "    .dataframe tbody tr th:only-of-type {\n",
       "        vertical-align: middle;\n",
       "    }\n",
       "\n",
       "    .dataframe tbody tr th {\n",
       "        vertical-align: top;\n",
       "    }\n",
       "\n",
       "    .dataframe thead th {\n",
       "        text-align: right;\n",
       "    }\n",
       "</style>\n",
       "<table border=\"1\" class=\"dataframe\">\n",
       "  <thead>\n",
       "    <tr style=\"text-align: right;\">\n",
       "      <th></th>\n",
       "      <th>weight</th>\n",
       "    </tr>\n",
       "  </thead>\n",
       "  <tbody>\n",
       "    <tr>\n",
       "      <th>count</th>\n",
       "      <td>10000.000000</td>\n",
       "    </tr>\n",
       "    <tr>\n",
       "      <th>mean</th>\n",
       "      <td>20.499212</td>\n",
       "    </tr>\n",
       "    <tr>\n",
       "      <th>std</th>\n",
       "      <td>0.199874</td>\n",
       "    </tr>\n",
       "    <tr>\n",
       "      <th>min</th>\n",
       "      <td>19.752000</td>\n",
       "    </tr>\n",
       "    <tr>\n",
       "      <th>25%</th>\n",
       "      <td>20.365000</td>\n",
       "    </tr>\n",
       "    <tr>\n",
       "      <th>50%</th>\n",
       "      <td>20.500000</td>\n",
       "    </tr>\n",
       "    <tr>\n",
       "      <th>75%</th>\n",
       "      <td>20.635000</td>\n",
       "    </tr>\n",
       "    <tr>\n",
       "      <th>max</th>\n",
       "      <td>21.171000</td>\n",
       "    </tr>\n",
       "  </tbody>\n",
       "</table>\n",
       "</div>"
      ],
      "text/plain": [
       "             weight\n",
       "count  10000.000000\n",
       "mean      20.499212\n",
       "std        0.199874\n",
       "min       19.752000\n",
       "25%       20.365000\n",
       "50%       20.500000\n",
       "75%       20.635000\n",
       "max       21.171000"
      ]
     },
     "metadata": {},
     "output_type": "display_data"
    }
   ],
   "source": [
    "data = \"https://raw.githubusercontent.com/bloominstituteoftechnology/data-science-practice-datasets/main/unit_1/Cereal/cereal_weights.csv\"\n",
    "\n",
    "df = pd.read_csv(data)\n",
    "display(df.describe())"
   ]
  },
  {
   "cell_type": "code",
   "execution_count": 9,
   "metadata": {},
   "outputs": [
    {
     "name": "stdout",
     "output_type": "stream",
     "text": [
      "The Standard Error of the Mean:  0.001999\n"
     ]
    }
   ],
   "source": [
    "# Calculating the Standard Error of the Mean\n",
    "stderr_mean = stats.sem(df['weight'])\n",
    "print(\"The Standard Error of the Mean: \", stderr_mean.round(6))"
   ]
  },
  {
   "cell_type": "markdown",
   "metadata": {},
   "source": [
    "We can conclude that our sample of ceral weights does not meet the expected result.\n",
    "expected mean was 20, sample mean is 20.5 and the std is .02.\n",
    "our expected range is 20.3 - 20.7 given the std."
   ]
  },
  {
   "cell_type": "markdown",
   "metadata": {},
   "source": [
    "# Central Limit Theorem(CLT)"
   ]
  },
  {
   "cell_type": "markdown",
   "metadata": {},
   "source": [
    "**Exponential Distribution to Normal Distribution**"
   ]
  },
  {
   "cell_type": "markdown",
   "metadata": {},
   "source": [
    "### Exponetial Distribution"
   ]
  },
  {
   "cell_type": "code",
   "execution_count": 4,
   "metadata": {},
   "outputs": [
    {
     "data": {
      "text/plain": [
       "[Text(0, 0.5, 'Frequency'), Text(0.5, 0, 'Exponential Distribution')]"
      ]
     },
     "execution_count": 4,
     "metadata": {},
     "output_type": "execute_result"
    },
    {
     "data": {
      "image/png": "[encoded data removed]",
      "text/plain": [
       "<Figure size 576x432 with 1 Axes>"
      ]
     },
     "metadata": {
      "needs_background": "light"
     },
     "output_type": "display_data"
    }
   ],
   "source": [
    "# Set the style-sheet\n",
    "plt.style.use('seaborn-bright')\n",
    "\n",
    "# Create the figure and axes objects\n",
    "fig, ax = plt.subplots(1, 1, figsize=(8,6))\n",
    "\n",
    "# Create an exponential distribution\n",
    "# (with a sample size of 1000)\n",
    "data_exp = stats.expon.rvs(size=1000)\n",
    "\n",
    "# Plot the distribution and the kernel density estimate (KDE)\n",
    "ax = sns.histplot(data_exp, kde=True, bins=100)\n",
    "\n",
    "# Set the axis labels\n",
    "ax.set(xlabel='Exponential Distribution', ylabel='Frequency')"
   ]
  },
  {
   "cell_type": "markdown",
   "metadata": {},
   "source": [
    "### Distribution after CLT"
   ]
  },
  {
   "cell_type": "code",
   "execution_count": 6,
   "metadata": {},
   "outputs": [
    {
     "data": {
      "image/png": "[encoded data removed]",
      "text/plain": [
       "<Figure size 720x288 with 3 Axes>"
      ]
     },
     "metadata": {
      "needs_background": "light"
     },
     "output_type": "display_data"
    }
   ],
   "source": [
    "# Create a list of means for each set of samples\n",
    "\n",
    "###\n",
    "# Initialize the list to hold the means\n",
    "rs_means_n25 = []\n",
    "# Loop 25 times, fill the list with 25 sample means\n",
    "for i in range(25):\n",
    "    # Draw random samples from the exponential distribution\n",
    "    rs_exp = np.random.exponential(scale=1.0, size=1000)\n",
    "    # Append the mean of the random sample\n",
    "    rs_means_n25.append(rs_exp.mean())\n",
    "\n",
    "###\n",
    "# Initialize the list to hold the means\n",
    "rs_means_n100 = []\n",
    "\n",
    "# Loop 100 times, fill the list with 100 sample means\n",
    "for i in range(100):\n",
    "    # Draw random samples from the exponential distribution\n",
    "    rs_exp = np.random.exponential(scale=1.0, size=1000)\n",
    "    # Append the mean of the random sample\n",
    "    rs_means_n100.append(rs_exp.mean())\n",
    "\n",
    "###\n",
    "# Initialize the list to hold the means\n",
    "rs_means_n1000 = []\n",
    "# Loop 1000 times, fill the list with 1000 sample means\n",
    "for i in range(1000):\n",
    "    # Draw random samples from the exponential distribution\n",
    "    rs_exp = np.random.exponential(scale=1.0, size=1000)\n",
    "    # Append the mean of the random sample\n",
    "    rs_means_n1000.append(rs_exp.mean())\n",
    "# Create the figure, axes objects\n",
    "fig, (ax1, ax2, ax3) = plt.subplots(1, 3, figsize=(10,4))\n",
    "\n",
    "# Plot each example on the correspond axis\n",
    "sns.histplot(rs_means_n25, kde=True, bins=100, ax=ax1)\n",
    "ax1.set(xlabel='n=25', ylabel='Frequency')\n",
    "\n",
    "sns.histplot(rs_means_n100, kde=True, bins=100, ax=ax2)\n",
    "ax2.set(xlabel='n=100')\n",
    "\n",
    "sns.histplot(rs_means_n1000, kde=True, bins=100, ax=ax3)\n",
    "ax3.set(xlabel='n=1000');"
   ]
  },
  {
   "cell_type": "markdown",
   "metadata": {},
   "source": [
    "### Confidence Interval with cereal data"
   ]
  },
  {
   "cell_type": "code",
   "execution_count": 9,
   "metadata": {},
   "outputs": [
    {
     "data": {
      "text/html": [
       "<div>\n",
       "<style scoped>\n",
       "    .dataframe tbody tr th:only-of-type {\n",
       "        vertical-align: middle;\n",
       "    }\n",
       "\n",
       "    .dataframe tbody tr th {\n",
       "        vertical-align: top;\n",
       "    }\n",
       "\n",
       "    .dataframe thead th {\n",
       "        text-align: right;\n",
       "    }\n",
       "</style>\n",
       "<table border=\"1\" class=\"dataframe\">\n",
       "  <thead>\n",
       "    <tr style=\"text-align: right;\">\n",
       "      <th></th>\n",
       "      <th>weight</th>\n",
       "    </tr>\n",
       "  </thead>\n",
       "  <tbody>\n",
       "    <tr>\n",
       "      <th>count</th>\n",
       "      <td>10000.000000</td>\n",
       "    </tr>\n",
       "    <tr>\n",
       "      <th>mean</th>\n",
       "      <td>20.499212</td>\n",
       "    </tr>\n",
       "    <tr>\n",
       "      <th>std</th>\n",
       "      <td>0.199874</td>\n",
       "    </tr>\n",
       "    <tr>\n",
       "      <th>min</th>\n",
       "      <td>19.752000</td>\n",
       "    </tr>\n",
       "    <tr>\n",
       "      <th>25%</th>\n",
       "      <td>20.365000</td>\n",
       "    </tr>\n",
       "    <tr>\n",
       "      <th>50%</th>\n",
       "      <td>20.500000</td>\n",
       "    </tr>\n",
       "    <tr>\n",
       "      <th>75%</th>\n",
       "      <td>20.635000</td>\n",
       "    </tr>\n",
       "    <tr>\n",
       "      <th>max</th>\n",
       "      <td>21.171000</td>\n",
       "    </tr>\n",
       "  </tbody>\n",
       "</table>\n",
       "</div>"
      ],
      "text/plain": [
       "             weight\n",
       "count  10000.000000\n",
       "mean      20.499212\n",
       "std        0.199874\n",
       "min       19.752000\n",
       "25%       20.365000\n",
       "50%       20.500000\n",
       "75%       20.635000\n",
       "max       21.171000"
      ]
     },
     "metadata": {},
     "output_type": "display_data"
    }
   ],
   "source": [
    "data = \"https://raw.githubusercontent.com/bloominstituteoftechnology/data-science-practice-datasets/main/unit_1/Cereal/cereal_weights.csv\"\n",
    "\n",
    "df = pd.read_csv(data)\n",
    "\n",
    "display(df.describe())"
   ]
  },
  {
   "cell_type": "code",
   "execution_count": 14,
   "metadata": {},
   "outputs": [
    {
     "name": "stdout",
     "output_type": "stream",
     "text": [
      "95% confidence intervals calculated with stats.t.ppf:\n",
      "20.499 20.495 20.503\n",
      "95% confidence intervals calculated with stats.t.interval: \n",
      " 20.495 20.503\n"
     ]
    },
    {
     "name": "stderr",
     "output_type": "stream",
     "text": [
      "C:\\Users\\tyler\\AppData\\Local\\Programs\\Python\\Python36\\lib\\site-packages\\seaborn\\distributions.py:2619: FutureWarning: `distplot` is a deprecated function and will be removed in a future version. Please adapt your code to use either `displot` (a figure-level function with similar flexibility) or `histplot` (an axes-level function for histograms).\n",
      "  warnings.warn(msg, FutureWarning)\n"
     ]
    },
    {
     "data": {
      "image/png": "[encoded data removed]",
      "text/plain": [
       "<Figure size 576x432 with 1 Axes>"
      ]
     },
     "metadata": {
      "needs_background": "light"
     },
     "output_type": "display_data"
    }
   ],
   "source": [
    "confidence = .95\n",
    "mean = df[\"weight\"].mean()\n",
    "# Number of samples\n",
    "n = len(df[\"weight\"])\n",
    "stderr_mean = stats.sem(df['weight'])\n",
    "\n",
    "# Construct the CI with the Percent-Point Function (ppf)\n",
    "interval = stderr_mean * stats.t.ppf((1 + confidence) / 2.0, n - 1)\n",
    "print('95% confidence intervals calculated with stats.t.ppf:')\n",
    "print(round(mean, 3), round((mean - interval), 3), round((mean + interval), 3))\n",
    "\n",
    "# Construct the CI with the stats.t.interval method\n",
    "CI = stats.t.interval(alpha=0.95, df=n-1, loc=mean, scale=stderr_mean)\n",
    "print('95% confidence intervals calculated with stats.t.interval: \\n', round(CI[0], 3), round(CI[1], 3))\n",
    "\n",
    "# Create the figure and axes objects\n",
    "fig, ax = plt.subplots(1, 1, figsize=(8,6))\n",
    "\n",
    "# Plot the distribution and the kernel density estimate (KDE)\n",
    "ax = sns.distplot(df['weight'], kde=True, bins=100)\n",
    "\n"
   ]
  }
 ],
 "metadata": {
  "interpreter": {
   "hash": "8deca82d3bc03ac877f14f4e3cfa1c6cad7fc5e89892089bcb6f966ce50b49e2"
  },
  "kernelspec": {
   "display_name": "Python 3.6.5 64-bit",
   "language": "python",
   "name": "python3"
  },
  "language_info": {
   "codemirror_mode": {
    "name": "ipython",
    "version": 3
   },
   "file_extension": ".py",
   "mimetype": "text/x-python",
   "name": "python",
   "nbconvert_exporter": "python",
   "pygments_lexer": "ipython3",
   "version": "3.6.5"
  },
  "orig_nbformat": 4
 },
 "nbformat": 4,
 "nbformat_minor": 2
}
